{
  "cells": [
    {
      "cell_type": "markdown",
      "metadata": {
        "id": "view-in-github",
        "colab_type": "text"
      },
      "source": [
        "<a href=\"https://colab.research.google.com/github/Heveraldob12/Alura-Challenge/blob/main/Semana_1.ipynb\" target=\"_parent\"><img src=\"https://colab.research.google.com/assets/colab-badge.svg\" alt=\"Open In Colab\"/></a>"
      ]
    },
    {
      "cell_type": "markdown",
      "metadata": {
        "id": "8IkVEQNOZTXn"
      },
      "source": [
        "# Instalando Spark\n"
      ]
    },
    {
      "cell_type": "code",
      "execution_count": null,
      "metadata": {
        "id": "zHzc4iOKZJqj"
      },
      "outputs": [],
      "source": [
        "!apt-get update -qq\n",
        "!apt-get install openjdk-8-jdk-headless -qq > /dev/null\n",
        "!wget -q https://archive.apache.org/dist/spark/spark-3.1.2/spark-3.1.2-bin-hadoop2.7.tgz\n",
        "!tar xf spark-3.1.2-bin-hadoop2.7.tgz\n",
        "!pip install -q findspark\n",
        "     "
      ]
    },
    {
      "cell_type": "code",
      "execution_count": null,
      "metadata": {
        "id": "smEDJ85OZYkw"
      },
      "outputs": [],
      "source": [
        "import os\n",
        "os.environ[\"JAVA_HOME\"] = \"/usr/lib/jvm/java-8-openjdk-amd64\"\n",
        "os.environ[\"SPARK_HOME\"] = \"/content/spark-3.1.2-bin-hadoop2.7\""
      ]
    },
    {
      "cell_type": "code",
      "source": [
        "from pyspark.sql import functions as f"
      ],
      "metadata": {
        "id": "SwXHbKUFMjfQ"
      },
      "execution_count": null,
      "outputs": []
    },
    {
      "cell_type": "code",
      "source": [
        "import findspark\n",
        "findspark.init()"
      ],
      "metadata": {
        "id": "X31Fdqbkk-pw"
      },
      "execution_count": null,
      "outputs": []
    },
    {
      "cell_type": "code",
      "source": [
        "from pyspark.sql import SparkSession\n",
        "\n",
        "spark = SparkSession.builder \\\n",
        "    .master('local[*]') \\\n",
        "    .appName(\"Iniciando com Spark\") \\\n",
        "    .getOrCreate()"
      ],
      "metadata": {
        "id": "jfs-h9xBlBvN"
      },
      "execution_count": null,
      "outputs": []
    },
    {
      "cell_type": "code",
      "execution_count": null,
      "metadata": {
        "id": "CLf0fKOFZZQQ"
      },
      "outputs": [],
      "source": [
        "path_dados_file='/content/drive/MyDrive/Challenge/dataset_bruto.json'\n",
        "dados = spark.read.json(path_dados_file)"
      ]
    },
    {
      "cell_type": "code",
      "execution_count": null,
      "metadata": {
        "id": "5Pnfl8JDeQTc",
        "colab": {
          "base_uri": "https://localhost:8080/"
        },
        "outputId": "c0e8ffb0-0cb2-4a5c-c20d-9f45ebf725ae"
      },
      "outputs": [
        {
          "output_type": "stream",
          "name": "stdout",
          "text": [
            "root\n",
            " |-- anuncio: struct (nullable = true)\n",
            " |    |-- andar: long (nullable = true)\n",
            " |    |-- area_total: array (nullable = true)\n",
            " |    |    |-- element: string (containsNull = true)\n",
            " |    |-- area_util: array (nullable = true)\n",
            " |    |    |-- element: string (containsNull = true)\n",
            " |    |-- banheiros: array (nullable = true)\n",
            " |    |    |-- element: long (containsNull = true)\n",
            " |    |-- caracteristicas: array (nullable = true)\n",
            " |    |    |-- element: string (containsNull = true)\n",
            " |    |-- endereco: struct (nullable = true)\n",
            " |    |    |-- bairro: string (nullable = true)\n",
            " |    |    |-- cep: string (nullable = true)\n",
            " |    |    |-- cidade: string (nullable = true)\n",
            " |    |    |-- estado: string (nullable = true)\n",
            " |    |    |-- latitude: double (nullable = true)\n",
            " |    |    |-- longitude: double (nullable = true)\n",
            " |    |    |-- pais: string (nullable = true)\n",
            " |    |    |-- rua: string (nullable = true)\n",
            " |    |    |-- zona: string (nullable = true)\n",
            " |    |-- id: string (nullable = true)\n",
            " |    |-- quartos: array (nullable = true)\n",
            " |    |    |-- element: long (containsNull = true)\n",
            " |    |-- suites: array (nullable = true)\n",
            " |    |    |-- element: long (containsNull = true)\n",
            " |    |-- tipo_anuncio: string (nullable = true)\n",
            " |    |-- tipo_unidade: string (nullable = true)\n",
            " |    |-- tipo_uso: string (nullable = true)\n",
            " |    |-- vaga: array (nullable = true)\n",
            " |    |    |-- element: long (containsNull = true)\n",
            " |    |-- valores: array (nullable = true)\n",
            " |    |    |-- element: struct (containsNull = true)\n",
            " |    |    |    |-- condominio: string (nullable = true)\n",
            " |    |    |    |-- iptu: string (nullable = true)\n",
            " |    |    |    |-- tipo: string (nullable = true)\n",
            " |    |    |    |-- valor: string (nullable = true)\n",
            " |-- imagens: array (nullable = true)\n",
            " |    |-- element: struct (containsNull = true)\n",
            " |    |    |-- id: string (nullable = true)\n",
            " |    |    |-- url: string (nullable = true)\n",
            " |-- usuario: struct (nullable = true)\n",
            " |    |-- id: string (nullable = true)\n",
            " |    |-- nome: string (nullable = true)\n",
            "\n"
          ]
        }
      ],
      "source": [
        "dados.printSchema()"
      ]
    },
    {
      "cell_type": "code",
      "execution_count": null,
      "metadata": {
        "id": "5QR7RnWMephR",
        "colab": {
          "base_uri": "https://localhost:8080/"
        },
        "outputId": "9b61526b-b705-4968-f36d-2eb9928c2610"
      },
      "outputs": [
        {
          "output_type": "stream",
          "name": "stdout",
          "text": [
            "+--------------------+--------------------+--------------------+\n",
            "|             anuncio|             imagens|             usuario|\n",
            "+--------------------+--------------------+--------------------+\n",
            "|{0, [], [16], [0]...|[{39d6282a-71f3-4...|{9d44563d-3405-4e...|\n",
            "|{0, [], [14], [0]...|[{23d2b3ab-45b0-4...|{36245be7-70fe-40...|\n",
            "|{0, [1026], [1026...|[{1da65baa-368b-4...|{9dc415d8-1397-4d...|\n",
            "|{0, [120], [120],...|[{79b542c6-49b4-4...|{9911a2df-f299-4a...|\n",
            "|{0, [3], [3], [0]...|[{e2bc497b-6510-4...|{240a7aab-12e5-40...|\n",
            "|{0, [20], [15], [...|[{2de09d46-dc0d-4...|{3c7057f5-0923-42...|\n",
            "|{3, [43], [43], [...|[{147a80d9-cd40-4...|{5a9736b5-aaa0-4a...|\n",
            "|{2, [42], [42], [...|[{35740004-063d-4...|{ec48d96a-137c-49...|\n",
            "|{0, [], [12], [0]...|[{6d3d2aec-c96f-4...|{dad7db63-e19c-44...|\n",
            "|{1, [41], [41], [...|[{3d404069-418e-4...|{a845f35f-3ab3-46...|\n",
            "|{3, [43], [43], [...|[{5b8a8de7-2088-4...|{8c8de313-45d5-4c...|\n",
            "|{0, [10], [4], [0...|[{5385da42-8276-4...|{0b1d4ee0-2bc3-4c...|\n",
            "|{0, [12], [12], [...|[{7e4c2d03-1188-4...|{d744ac23-f16e-44...|\n",
            "|{0, [17], [17], [...|[{db608e30-f3e0-4...|{edc3fcf6-4441-40...|\n",
            "|{1, [32], [32], [...|[{318d4e40-f759-4...|{84dfa72e-10dd-48...|\n",
            "|{0, [], [10], [0]...|[{9e39e46f-59f8-4...|{fc1d2b73-9d29-4c...|\n",
            "|{2, [43], [43], [...|[{3fe1c1cc-7a9c-4...|{7f2de69f-68f8-40...|\n",
            "|{3, [43], [43], [...|[{fd04f07d-cfdf-4...|{12ce772e-4aac-46...|\n",
            "|{3, [43], [43], [...|[{76f97b59-a61b-4...|{cc17fc2c-6be2-4e...|\n",
            "|{3, [43], [43], [...|[{95d9678e-491f-4...|{286649de-3099-4c...|\n",
            "+--------------------+--------------------+--------------------+\n",
            "only showing top 20 rows\n",
            "\n"
          ]
        }
      ],
      "source": [
        "dados.show()"
      ]
    },
    {
      "cell_type": "code",
      "source": [
        "dados.select('usuario').show(truncate=False)"
      ],
      "metadata": {
        "colab": {
          "base_uri": "https://localhost:8080/"
        },
        "id": "Mk3oqEzzsKlq",
        "outputId": "a2a2399c-46ba-4b94-ac16-173f867a7038"
      },
      "execution_count": null,
      "outputs": [
        {
          "output_type": "stream",
          "name": "stdout",
          "text": [
            "+-------------------------------------------------+\n",
            "|usuario                                          |\n",
            "+-------------------------------------------------+\n",
            "|{9d44563d-3405-4e84-9381-35b7cf40a9a4, Frank}    |\n",
            "|{36245be7-70fe-40cd-84d4-70a57dc8f976, Caroline} |\n",
            "|{9dc415d8-1397-4d8d-8425-b8310fad309d, Oliver}   |\n",
            "|{9911a2df-f299-4a73-a384-281417abaf69, Matthew}  |\n",
            "|{240a7aab-12e5-4069-9a2c-9dca4c4f9c68, Jude}     |\n",
            "|{3c7057f5-0923-42eb-8b6d-25f3e61155ef, David}    |\n",
            "|{5a9736b5-aaa0-4a35-8632-26bbd8bd5cbe, Hope}     |\n",
            "|{ec48d96a-137c-49d5-ad7a-66c39932f599, Margareth}|\n",
            "|{dad7db63-e19c-4420-a64d-f3052ffbba4b, Sean}     |\n",
            "|{a845f35f-3ab3-4619-9e53-259a6539af60, Nicole}   |\n",
            "|{8c8de313-45d5-4cc1-9ae5-9cb7ec104b41, Bradley}  |\n",
            "|{0b1d4ee0-2bc3-4cb6-b3a8-0cfd69f6c645, Hilary}   |\n",
            "|{d744ac23-f16e-44a0-8627-ea7766afb963, Tabitha}  |\n",
            "|{edc3fcf6-4441-4096-9873-78ed146b0f40, Grace}    |\n",
            "|{84dfa72e-10dd-4856-a603-87ecb0112c4b, Bradley}  |\n",
            "|{fc1d2b73-9d29-4c57-a7c0-1b75722e63d6, Anthony}  |\n",
            "|{7f2de69f-68f8-4047-84d2-9c847b77bcc0, Duncan}   |\n",
            "|{12ce772e-4aac-46bc-b840-aea0b3ad1f46, Mia}      |\n",
            "|{cc17fc2c-6be2-4e59-9cf7-5b03efbac944, Brooke}   |\n",
            "|{286649de-3099-4cce-9561-4e1e8707e5ca, Declan}   |\n",
            "+-------------------------------------------------+\n",
            "only showing top 20 rows\n",
            "\n"
          ]
        }
      ]
    },
    {
      "cell_type": "code",
      "source": [
        "dados.select('imagens').show(truncate=False)"
      ],
      "metadata": {
        "colab": {
          "base_uri": "https://localhost:8080/"
        },
        "id": "zpL0VdPOsMNK",
        "outputId": "5602174c-caa6-49f5-fce0-7b5e73f1b322"
      },
      "execution_count": null,
      "outputs": [
        {
          "output_type": "stream",
          "name": "stdout",
          "text": [
            "+--------------------------------------------------------------------------------------------------------------------------------------------------------------------------------------------------------------------------------------------------------------------------------------------------------------------------------------------------------------------------------------------------------------------------------------------------------------------------------------------------------------------------------------------------------------------------------------------------------+\n",
            "|imagens                                                                                                                                                                                                                                                                                                                                                                                                                                                                                                                                                                                                 |\n",
            "+--------------------------------------------------------------------------------------------------------------------------------------------------------------------------------------------------------------------------------------------------------------------------------------------------------------------------------------------------------------------------------------------------------------------------------------------------------------------------------------------------------------------------------------------------------------------------------------------------------+\n",
            "|[{39d6282a-71f3-47bc-94aa-909351ecd881, https://api.images.insightplaces.com.br/{type}/{width}/{height}/1b08098d-f2dc-439c-b604-a4e50d12774b.jpg}]                                                                                                                                                                                                                                                                                                                                                                                                                                                      |\n",
            "|[{23d2b3ab-45b0-47f2-a27f-ffbe066c2c38, https://api.images.insightplaces.com.br/{type}/{width}/{height}/7a65b929-fe46-4a60-ae31-81faf2edb3c6.jpg}, {1b5f71f8-1aec-4b82-8d4c-67540d204a59, https://api.images.insightplaces.com.br/{type}/{width}/{height}/82e92d72-002a-4d3b-8063-16d4d65474b3.jpg}, {9bb11688-7dc9-48b9-bc1d-6a7a2dbcd553, https://api.images.insightplaces.com.br/{type}/{width}/{height}/23be0c2c-4c8f-4718-8126-6f160bb3efcc.jpg}, {1aaf6095-70bc-4f1f-87a4-fe3534a1bd2a, https://api.images.insightplaces.com.br/{type}/{width}/{height}/0ae382f4-b1ac-4ad9-b6cf-d9b4d7d01908.jpg}]|\n",
            "|[{1da65baa-368b-490f-bef7-1834b9a428c1, https://api.images.insightplaces.com.br/{type}/{width}/{height}/b06fe423-6f18-43bb-b0e3-a569158885d2.jpg}]                                                                                                                                                                                                                                                                                                                                                                                                                                                      |\n",
            "|[{79b542c6-49b4-4f06-80b5-ef4fcdf98f76, https://api.images.insightplaces.com.br/{type}/{width}/{height}/b9688b1a-e6e8-4027-9368-d8298bc5ac40.jpg}]                                                                                                                                                                                                                                                                                                                                                                                                                                                      |\n",
            "|[{e2bc497b-6510-4731-8942-97b3d3cdab5e, https://api.images.insightplaces.com.br/{type}/{width}/{height}/bd7e2c54-8d10-4148-806d-0d656ff80fc2.jpg}]                                                                                                                                                                                                                                                                                                                                                                                                                                                      |\n",
            "|[{2de09d46-dc0d-47cf-aed2-a34e1dacce90, https://api.images.insightplaces.com.br/{type}/{width}/{height}/548872c8-9f2c-45af-8dd0-83a49aa7d920.jpg}, {6189a3f3-d722-4dcb-9368-4ca444be1c43, https://api.images.insightplaces.com.br/{type}/{width}/{height}/30cf34cb-86a6-4ac9-a6db-7e065329ba70.jpg}]                                                                                                                                                                                                                                                                                                    |\n",
            "|[{147a80d9-cd40-4a57-bece-a45ea729ddae, https://api.images.insightplaces.com.br/{type}/{width}/{height}/fa0f099d-cd78-4839-82d6-fcbc0cac4242.jpg}, {c3d5fd7e-2da2-41fd-a4c5-bab0410bec95, https://api.images.insightplaces.com.br/{type}/{width}/{height}/c0bc830d-9b9d-4227-b97f-4b26eba40161.jpg}]                                                                                                                                                                                                                                                                                                    |\n",
            "|[{35740004-063d-489b-b84c-f278c018e9f3, https://api.images.insightplaces.com.br/{type}/{width}/{height}/549d156b-3c30-4441-a935-071ba3d89d2b.jpg}, {6bd5391b-aa54-4bcb-994e-b37fea4b85b8, https://api.images.insightplaces.com.br/{type}/{width}/{height}/0be416b1-b0c8-40e6-b82f-97b738d07599.jpg}, {6566eb7d-f715-4b15-ada8-496241bbeb82, https://api.images.insightplaces.com.br/{type}/{width}/{height}/c24a04e2-d89b-474b-9510-98d165c4ba6d.jpg}]                                                                                                                                                  |\n",
            "|[{6d3d2aec-c96f-4e57-8b31-8400af100b65, https://api.images.insightplaces.com.br/{type}/{width}/{height}/2f615235-3698-4500-9680-213e1a433057.jpg}]                                                                                                                                                                                                                                                                                                                                                                                                                                                      |\n",
            "|[{3d404069-418e-4a3f-a087-f4007f701869, https://api.images.insightplaces.com.br/{type}/{width}/{height}/4df6082f-59e3-493d-b4ae-10e785d6e5f3.jpg}, {79139d37-2d03-4291-8258-d0aa7ce0ac0b, https://api.images.insightplaces.com.br/{type}/{width}/{height}/3e05d8e6-ba58-4d73-bbda-29244c62f15a.jpg}, {032589d8-f6aa-4eb7-8010-f78f260db9d4, https://api.images.insightplaces.com.br/{type}/{width}/{height}/f95da5f5-b6cf-4969-8119-1bb8383398ef.jpg}]                                                                                                                                                  |\n",
            "|[{5b8a8de7-2088-4ed8-8c80-9df92b721543, https://api.images.insightplaces.com.br/{type}/{width}/{height}/883dbf54-8485-42fc-a5d0-dd2caefeebd0.jpg}, {5fa4df5c-628d-47b2-882a-3904b481fa08, https://api.images.insightplaces.com.br/{type}/{width}/{height}/d8936d07-4dd5-4b88-843c-2306de56dfec.jpg}]                                                                                                                                                                                                                                                                                                    |\n",
            "|[{5385da42-8276-4cf6-9a94-211474cde65c, https://api.images.insightplaces.com.br/{type}/{width}/{height}/6b6d0e87-f61c-4b22-8d67-d0f4aad3ea09.jpg}, {d8db65a2-a1da-43db-8091-662a57a2cade, https://api.images.insightplaces.com.br/{type}/{width}/{height}/5b736188-536a-4bfe-94e8-a810a94fb74c.jpg}, {52bb22e4-734c-4aab-abdb-f3d4ca5dcae3, https://api.images.insightplaces.com.br/{type}/{width}/{height}/4be1b191-273f-44aa-b5e8-a1ddb516f5ab.jpg}]                                                                                                                                                  |\n",
            "|[{7e4c2d03-1188-4451-9c1e-5f8bff8e9c73, https://api.images.insightplaces.com.br/{type}/{width}/{height}/7227f8dd-2b21-485b-9ee8-5a54298768c1.jpg}]                                                                                                                                                                                                                                                                                                                                                                                                                                                      |\n",
            "|[{db608e30-f3e0-4fa3-9ee9-4d05afbea34d, https://api.images.insightplaces.com.br/{type}/{width}/{height}/ca0d3f02-bb8a-4b51-b8be-81482ff05aec.jpg}, {9360ab89-788c-45d8-b878-d7f051cbc888, https://api.images.insightplaces.com.br/{type}/{width}/{height}/a211da7c-cc48-4603-8d9d-d71ae267d96b.jpg}]                                                                                                                                                                                                                                                                                                    |\n",
            "|[{318d4e40-f759-449e-b053-f25980854866, https://api.images.insightplaces.com.br/{type}/{width}/{height}/ba22701f-082e-4947-86be-57773dc6df8a.jpg}, {ef501dfb-0251-409c-8e9b-b37aeffd1f7c, https://api.images.insightplaces.com.br/{type}/{width}/{height}/451f6539-e31e-4d0a-b699-a208d884fa09.jpg}, {c834108e-d9f4-4211-bf4a-5c7a842ea7c3, https://api.images.insightplaces.com.br/{type}/{width}/{height}/14e50871-c3c1-4d8a-a1fc-b97c964c8492.jpg}, {1e0a82eb-4143-419f-b345-5c84d3a258a5, https://api.images.insightplaces.com.br/{type}/{width}/{height}/7999d10f-61ff-4222-a529-d93408e4a591.jpg}]|\n",
            "|[{9e39e46f-59f8-4340-8bda-9d1483d0fa99, https://api.images.insightplaces.com.br/{type}/{width}/{height}/80174d5e-5111-4c01-a098-aec83517b647.jpg}, {62768c30-a721-4a8b-a93b-1d8dea14d416, https://api.images.insightplaces.com.br/{type}/{width}/{height}/d9caaad8-db12-4dc8-a186-6ddecdef55ad.jpg}]                                                                                                                                                                                                                                                                                                    |\n",
            "|[{3fe1c1cc-7a9c-4f6c-b030-6f16b6fa4f69, https://api.images.insightplaces.com.br/{type}/{width}/{height}/3b09011f-759c-497a-9f8e-806bf8aa6144.jpg}, {9dbee9a9-9611-46a8-b104-c7a72ed7a2a6, https://api.images.insightplaces.com.br/{type}/{width}/{height}/e3b5c07b-f299-449c-8ea0-1a2633847a9a.jpg}, {91bda2dd-5cef-4daa-978d-2685f6b36e35, https://api.images.insightplaces.com.br/{type}/{width}/{height}/de5f1482-2761-42ef-b9c4-4257b5745ae8.jpg}, {e36fb279-eb69-4c51-8309-62d2c8ac79d3, https://api.images.insightplaces.com.br/{type}/{width}/{height}/9990e9fc-fbef-41d5-a9b5-da9d5609b3f9.jpg}]|\n",
            "|[{fd04f07d-cfdf-4383-8dfc-84277b9cdd5d, https://api.images.insightplaces.com.br/{type}/{width}/{height}/4cd1a2e6-4c25-4f7f-ac3c-d297f0c2d32b.jpg}, {2f9e0baf-9736-483a-8086-f1b0805252c7, https://api.images.insightplaces.com.br/{type}/{width}/{height}/505dc961-9345-4800-bffa-ccef8d83a314.jpg}]                                                                                                                                                                                                                                                                                                    |\n",
            "|[{76f97b59-a61b-4904-9f0b-850c454cfb09, https://api.images.insightplaces.com.br/{type}/{width}/{height}/a8969e63-c6dd-4fce-853b-7ccd1bea0043.jpg}, {12a24020-f0a9-40e2-b544-736afe7ff022, https://api.images.insightplaces.com.br/{type}/{width}/{height}/0df86da3-41db-4925-aa7c-16e7e7b9a438.jpg}, {3bffacf1-7c57-4a38-a15d-f8c6eeb2e611, https://api.images.insightplaces.com.br/{type}/{width}/{height}/9b4a2902-62ea-41b3-8f4f-73a2a6b2e23d.jpg}, {2fc588a7-e30e-4741-8a33-cfcb22bb204d, https://api.images.insightplaces.com.br/{type}/{width}/{height}/76e3431e-1eff-4235-ad0e-37c1fba4c132.jpg}]|\n",
            "|[{95d9678e-491f-4cd6-ba99-30ef61bd3532, https://api.images.insightplaces.com.br/{type}/{width}/{height}/04ffc555-9248-40f0-b2f6-a4ae12a4de29.jpg}, {c91bdc4f-16c5-4d12-b78d-42c26ab0d52a, https://api.images.insightplaces.com.br/{type}/{width}/{height}/c35f61c7-0cf1-4ffa-ad30-075c2ca4cc76.jpg}, {b6e2ebf4-34a4-45e3-8f01-53dca7e08170, https://api.images.insightplaces.com.br/{type}/{width}/{height}/56a5b8ab-b4b9-41f1-99e2-bcf1373da796.jpg}, {3bd7d29c-02f4-4eea-8ddf-544baf905afc, https://api.images.insightplaces.com.br/{type}/{width}/{height}/f0c1df5b-a63f-4f88-96d2-79e56acede57.jpg}]|\n",
            "+--------------------------------------------------------------------------------------------------------------------------------------------------------------------------------------------------------------------------------------------------------------------------------------------------------------------------------------------------------------------------------------------------------------------------------------------------------------------------------------------------------------------------------------------------------------------------------------------------------+\n",
            "only showing top 20 rows\n",
            "\n"
          ]
        }
      ]
    },
    {
      "cell_type": "code",
      "source": [
        "anuncio=dados.select('anuncio.*')\n",
        "anuncio.show(truncate=False)"
      ],
      "metadata": {
        "colab": {
          "base_uri": "https://localhost:8080/"
        },
        "id": "_rxPPW07oAwh",
        "outputId": "bd02b63d-e836-419f-8563-076f66e6c6f5"
      },
      "execution_count": null,
      "outputs": [
        {
          "output_type": "stream",
          "name": "stdout",
          "text": [
            "+-----+----------+---------+---------+-------------------------------------------------------------------------------------------------------------------------------+-----------------------------------------------------------------------------------------------------------------------------+------------------------------------+-------+------+------------+------------+-----------+----+----------------------------+\n",
            "|andar|area_total|area_util|banheiros|caracteristicas                                                                                                                |endereco                                                                                                                     |id                                  |quartos|suites|tipo_anuncio|tipo_unidade|tipo_uso   |vaga|valores                     |\n",
            "+-----+----------+---------+---------+-------------------------------------------------------------------------------------------------------------------------------+-----------------------------------------------------------------------------------------------------------------------------+------------------------------------+-------+------+------------+------------+-----------+----+----------------------------+\n",
            "|0    |[]        |[16]     |[0]      |[]                                                                                                                             |{Centro, 20061003, Rio de Janeiro, Rio de Janeiro, -22.906082, -43.18671, BR, Rua Buenos Aires, Zona Central}                |47d553e0-79f2-4a46-9390-5a3c962740c2|[0]    |[0]   |Usado       |Outros      |Comercial  |[1] |[{260, 107, Venda, 10000}]  |\n",
            "|0    |[]        |[14]     |[0]      |[]                                                                                                                             |{Centro, 20051040, Rio de Janeiro, Rio de Janeiro, -22.902536, -43.18434, BR, Avenida Passos, Zona Central}                  |b6ffbae1-17f6-4870-9950-e998ac1c8d6a|[0]    |[]    |Usado       |Outros      |Comercial  |[0] |[{260, 107, Venda, 10000}]  |\n",
            "|0    |[1026]    |[1026]   |[0]      |[]                                                                                                                             |{Maria da Graça, 20785360, Rio de Janeiro, Rio de Janeiro, -22.885516, -43.269083, BR, Rua Luís de Brito, Zona Norte}        |1fb030a5-9e3e-4a1d-93cd-cd2d8a215e11|[0]    |[]    |Usado       |Outros      |Comercial  |[0] |[{null, 1613, Venda, 10000}]|\n",
            "|0    |[120]     |[120]    |[0]      |[Portão eletrônico, Condomínio fechado]                                                                                        |{Campo Grande, 23095071, Rio de Janeiro, Rio de Janeiro, -22.885028, -43.561668, BR, Estrada Guandu do Sape, Zona Oeste}     |ac6cb348-69d6-45af-9589-dc34099370d8|[0]    |[]    |Usado       |Outros      |Residencial|[]  |[{80, null, Venda, 10000}]  |\n",
            "|0    |[3]       |[3]      |[0]      |[]                                                                                                                             |{São Cristóvão, 20931670, Rio de Janeiro, Rio de Janeiro, -22.885912, -43.219296, BR, Rua Monsenhor Manuel Gomes, Zona Norte}|e032b908-ef42-4d4a-8125-eba4792bacbe|[0]    |[]    |Usado       |Outros      |Residencial|[]  |[{0, 0, Venda, 5000}]       |\n",
            "|0    |[20]      |[15]     |[1]      |[]                                                                                                                             |{Centro, 20231047, Rio de Janeiro, Rio de Janeiro, -22.913152, -43.184043, BR, Rua dos Inválidos, Zona Central}              |df9cf0b8-b972-4334-88c9-87ef528806df|[0]    |[]    |Usado       |Outros      |Comercial  |[1] |[{223, 87, Venda, 18500}]   |\n",
            "|3    |[43]      |[43]     |[1]      |[Academia, Churrasqueira, Playground, Salão de festas, Condomínio fechado, Portão eletrônico, Portaria 24h, Animais permitidos]|{Paciência, 23585430, Rio de Janeiro, Rio de Janeiro, -22.919851, -43.634034, BR, Estrada de Santa Eugênia, Zona Oeste}      |d2e3a3aa-09b5-45a0-9dcd-918847cd3ca3|[2]    |[]    |Usado       |Apartamento |Residencial|[1] |[{245, null, Venda, 15000}] |\n",
            "|2    |[42]      |[42]     |[1]      |[Churrasqueira, Playground, Salão de festas, Condomínio fechado, Portão eletrônico, Portaria 24h, Animais permitidos]          |{Paciência, 23585430, Rio de Janeiro, Rio de Janeiro, -22.928108, -43.635375, BR, Estrada de Santa Eugênia, Zona Oeste}      |085bab2c-87ad-452a-bd0f-8b1451509f84|[2]    |[]    |Usado       |Apartamento |Residencial|[1] |[{0, 0, Venda, 15000}]      |\n",
            "|0    |[]        |[12]     |[0]      |[Portaria 24h, Elevador]                                                                                                       |{Centro, 20231047, Rio de Janeiro, Rio de Janeiro, -22.913152, -43.184043, BR, Rua dos Inválidos, Zona Central}              |096ad966-dc36-47bf-8795-5604f078713a|[0]    |[]    |Usado       |Outros      |Comercial  |[1] |[{250, null, Venda, 20000}] |\n",
            "|1    |[41]      |[41]     |[1]      |[Portaria 24h, Condomínio fechado, Playground, Salão de festas, Churrasqueira, Portão eletrônico]                              |{Guaratiba, 23036060, Rio de Janeiro, Rio de Janeiro, -22.948756, -43.582824, BR, Estrada Cabuçu de Baixo, Zona Oeste}       |18d22cbe-1b86-4764-8def-70c615f15a61|[2]    |[]    |Usado       |Apartamento |Residencial|[1] |[{0, 0, Venda, 20000}]      |\n",
            "|3    |[43]      |[43]     |[1]      |[Churrasqueira, Piscina, Playground, Salão de festas, Condomínio fechado, Portão eletrônico, Portaria 24h, Animais permitidos] |{Cosmos, 23066271, Rio de Janeiro, Rio de Janeiro, -22.888194, -43.629602, BR, Estrada da Paciência, Zona Oeste}             |bed8a354-9317-4426-b27e-1c798f864271|[2]    |[]    |Usado       |Apartamento |Residencial|[0] |[{285, null, Venda, 20000}] |\n",
            "|0    |[10]      |[4]      |[0]      |[Elevador, Portaria 24h]                                                                                                       |{Centro, 20080021, Rio de Janeiro, Rio de Janeiro, -22.900167, -43.183256, BR, Rua dos Andradas, Zona Central}               |b7d0fbd3-0b28-4203-b7d2-5a63b6f6f7aa|[0]    |[]    |Usado       |Outros      |Comercial  |[0] |[{200, 86, Venda, 11500}]   |\n",
            "|0    |[12]      |[12]     |[1]      |[Portaria 24h]                                                                                                                 |{Copacabana, 22021010, Rio de Janeiro, Rio de Janeiro, -22.965218, -43.179086, BR, Rua Ministro Viveiros de Castro, Zona Sul}|c6571c11-166e-4a4c-acdf-10da35afd5fa|[0]    |[]    |Usado       |Outros      |Comercial  |[]  |[{470, null, Venda, 12000}] |\n",
            "|0    |[17]      |[17]     |[0]      |[Elevador]                                                                                                                     |{Centro, 20070021, Rio de Janeiro, Rio de Janeiro, -22.902503, -43.177944, BR, Rua Buenos Aires, Zona Central}               |46d5b560-205f-45fe-9223-f2a4db04545c|[0]    |[]    |Usado       |Outros      |Comercial  |[1] |[{294, 98, Venda, 18000}]   |\n",
            "|1    |[32]      |[32]     |[]       |[Elevador, Condomínio fechado, Portão eletrônico]                                                                              |{Centro, 20090020, Rio de Janeiro, Rio de Janeiro, -22.898297, -43.178573, BR, Rua Cortines Laxe, Zona Central}              |db197997-00e6-4d6d-8066-45cbbf3ac56c|[]     |[]    |Usado       |Outros      |Comercial  |[1] |[{684, null, Venda, 15000}] |\n",
            "|0    |[]        |[10]     |[0]      |[Elevador, Condomínio fechado, Portão eletrônico, Portaria 24h]                                                                |{Saúde, 20080040, Rio de Janeiro, Rio de Janeiro, -22.899571, -43.184864, BR, Travessa Coronel Julião, Zona Central}         |835d4338-4aa9-4e46-8a19-c7a31b387ce5|[0]    |[]    |Usado       |Outros      |Comercial  |[]  |[{0, 120, Venda, 20000}]    |\n",
            "|2    |[43]      |[43]     |[1]      |[Academia, Churrasqueira, Playground, Salão de festas, Condomínio fechado, Portão eletrônico, Portaria 24h, Animais permitidos]|{Guaratiba, 23036060, Rio de Janeiro, Rio de Janeiro, -22.948291, -43.582205, BR, Estrada Cabuçu de Baixo, Zona Oeste}       |12a13315-d67f-48f0-9497-017b83252781|[2]    |[]    |Usado       |Apartamento |Residencial|[1] |[{245, null, Venda, 15000}] |\n",
            "|3    |[43]      |[43]     |[1]      |[Churrasqueira, Piscina, Playground, Salão de festas, Condomínio fechado, Portaria 24h, Portão eletrônico, Animais permitidos] |{Cosmos, 23066271, Rio de Janeiro, Rio de Janeiro, -22.888194, -43.629602, BR, Estrada da Paciência, Zona Oeste}             |a2e6d7a5-0ff0-484d-b3d8-3a8f15e2d80e|[2]    |[0]   |Usado       |Apartamento |Residencial|[0] |[{285, null, Venda, 20000}] |\n",
            "|3    |[43]      |[43]     |[1]      |[Churrasqueira, Playground, Salão de festas, Condomínio fechado, Portão eletrônico, Portaria 24h, Animais permitidos]          |{Paciência, 23585430, Rio de Janeiro, Rio de Janeiro, -22.919851, -43.634034, BR, Estrada de Santa Eugênia, Zona Oeste}      |a6e3173b-c950-4db4-9b7b-80c44bd75e90|[2]    |[]    |Usado       |Apartamento |Residencial|[1] |[{250, null, Venda, 15000}] |\n",
            "|3    |[43]      |[43]     |[1]      |[Churrasqueira, Playground, Salão de festas, Condomínio fechado, Portão eletrônico, Animais permitidos]                        |{Guaratiba, 23036060, Rio de Janeiro, Rio de Janeiro, -22.948291, -43.582205, BR, Estrada Cabuçu de Baixo, Zona Oeste}       |2e6e5dfb-206c-4968-944b-ea4c3918b50d|[2]    |[0]   |Usado       |Apartamento |Residencial|[1] |[{245, null, Venda, 15000}] |\n",
            "+-----+----------+---------+---------+-------------------------------------------------------------------------------------------------------------------------------+-----------------------------------------------------------------------------------------------------------------------------+------------------------------------+-------+------+------------+------------+-----------+----+----------------------------+\n",
            "only showing top 20 rows\n",
            "\n"
          ]
        }
      ]
    },
    {
      "cell_type": "code",
      "source": [
        "anuncio.printSchema()"
      ],
      "metadata": {
        "colab": {
          "base_uri": "https://localhost:8080/"
        },
        "id": "pvLAkN-2qu4f",
        "outputId": "27db4529-b9d8-43d9-9781-7e7c19fed3fe"
      },
      "execution_count": null,
      "outputs": [
        {
          "output_type": "stream",
          "name": "stdout",
          "text": [
            "root\n",
            " |-- andar: long (nullable = true)\n",
            " |-- area_total: array (nullable = true)\n",
            " |    |-- element: string (containsNull = true)\n",
            " |-- area_util: array (nullable = true)\n",
            " |    |-- element: string (containsNull = true)\n",
            " |-- banheiros: array (nullable = true)\n",
            " |    |-- element: long (containsNull = true)\n",
            " |-- caracteristicas: array (nullable = true)\n",
            " |    |-- element: string (containsNull = true)\n",
            " |-- endereco: struct (nullable = true)\n",
            " |    |-- bairro: string (nullable = true)\n",
            " |    |-- cep: string (nullable = true)\n",
            " |    |-- cidade: string (nullable = true)\n",
            " |    |-- estado: string (nullable = true)\n",
            " |    |-- latitude: double (nullable = true)\n",
            " |    |-- longitude: double (nullable = true)\n",
            " |    |-- pais: string (nullable = true)\n",
            " |    |-- rua: string (nullable = true)\n",
            " |    |-- zona: string (nullable = true)\n",
            " |-- id: string (nullable = true)\n",
            " |-- quartos: array (nullable = true)\n",
            " |    |-- element: long (containsNull = true)\n",
            " |-- suites: array (nullable = true)\n",
            " |    |-- element: long (containsNull = true)\n",
            " |-- tipo_anuncio: string (nullable = true)\n",
            " |-- tipo_unidade: string (nullable = true)\n",
            " |-- tipo_uso: string (nullable = true)\n",
            " |-- vaga: array (nullable = true)\n",
            " |    |-- element: long (containsNull = true)\n",
            " |-- valores: array (nullable = true)\n",
            " |    |-- element: struct (containsNull = true)\n",
            " |    |    |-- condominio: string (nullable = true)\n",
            " |    |    |-- iptu: string (nullable = true)\n",
            " |    |    |-- tipo: string (nullable = true)\n",
            " |    |    |-- valor: string (nullable = true)\n",
            "\n"
          ]
        }
      ]
    },
    {
      "cell_type": "code",
      "source": [
        "print(anuncio.select('tipo_uso').distinct().collect())\n",
        "print(anuncio.select('tipo_unidade').distinct().collect())\n",
        "print(anuncio.select('tipo_anuncio').distinct().collect())"
      ],
      "metadata": {
        "colab": {
          "base_uri": "https://localhost:8080/"
        },
        "id": "NwKI8Kx8s-PP",
        "outputId": "b4f10191-da6a-464f-ded1-4d4c6db78076"
      },
      "execution_count": null,
      "outputs": [
        {
          "output_type": "stream",
          "name": "stdout",
          "text": [
            "[Row(tipo_uso='Comercial'), Row(tipo_uso='Residencial')]\n",
            "[Row(tipo_unidade='Outros'), Row(tipo_unidade='Apartamento'), Row(tipo_unidade='Casa')]\n",
            "[Row(tipo_anuncio='Usado'), Row(tipo_anuncio='Lançamento')]\n"
          ]
        }
      ]
    },
    {
      "cell_type": "code",
      "source": [
        "anuncio=anuncio.filter(anuncio.tipo_uso == 'Residencial' )\n",
        "print(anuncio.select('tipo_uso').distinct().collect())"
      ],
      "metadata": {
        "colab": {
          "base_uri": "https://localhost:8080/"
        },
        "id": "oC0DOh1mtLo1",
        "outputId": "0c898732-a896-40b7-8dc5-0cdbaded0772"
      },
      "execution_count": null,
      "outputs": [
        {
          "output_type": "stream",
          "name": "stdout",
          "text": [
            "[Row(tipo_uso='Residencial')]\n"
          ]
        }
      ]
    },
    {
      "cell_type": "code",
      "source": [
        "anuncio=anuncio.filter(anuncio.tipo_anuncio == 'Usado' )\n",
        "print(anuncio.select('tipo_anuncio').distinct().collect())"
      ],
      "metadata": {
        "colab": {
          "base_uri": "https://localhost:8080/"
        },
        "id": "Jym4wVT_xUTo",
        "outputId": "c4f002a1-911e-4738-ec4d-ff5d937bcb22"
      },
      "execution_count": null,
      "outputs": [
        {
          "output_type": "stream",
          "name": "stdout",
          "text": [
            "[Row(tipo_anuncio='Usado')]\n"
          ]
        }
      ]
    },
    {
      "cell_type": "code",
      "source": [
        "anuncio=anuncio.filter(anuncio.tipo_unidade == 'Apartamento' )\n",
        "print(anuncio.select('tipo_unidade').distinct().collect())"
      ],
      "metadata": {
        "colab": {
          "base_uri": "https://localhost:8080/"
        },
        "id": "4RleTWWFyDL9",
        "outputId": "835552dc-4755-475b-ba5f-fd901f21cade"
      },
      "execution_count": null,
      "outputs": [
        {
          "output_type": "stream",
          "name": "stdout",
          "text": [
            "[Row(tipo_unidade='Apartamento')]\n"
          ]
        }
      ]
    },
    {
      "cell_type": "code",
      "source": [
        "anuncio.show()"
      ],
      "metadata": {
        "colab": {
          "base_uri": "https://localhost:8080/"
        },
        "id": "SnlWSLVsyIZe",
        "outputId": "5e5a83ff-47b8-4f7e-9df8-4f46ba467ca4"
      },
      "execution_count": null,
      "outputs": [
        {
          "output_type": "stream",
          "name": "stdout",
          "text": [
            "+-----+----------+---------+---------+--------------------+--------------------+--------------------+-------+------+------------+------------+-----------+----+--------------------+\n",
            "|andar|area_total|area_util|banheiros|     caracteristicas|            endereco|                  id|quartos|suites|tipo_anuncio|tipo_unidade|   tipo_uso|vaga|             valores|\n",
            "+-----+----------+---------+---------+--------------------+--------------------+--------------------+-------+------+------------+------------+-----------+----+--------------------+\n",
            "|    3|      [43]|     [43]|      [1]|[Academia, Churra...|{Paciência, 23585...|d2e3a3aa-09b5-45a...|    [2]|    []|       Usado| Apartamento|Residencial| [1]|[{245, null, Vend...|\n",
            "|    2|      [42]|     [42]|      [1]|[Churrasqueira, P...|{Paciência, 23585...|085bab2c-87ad-452...|    [2]|    []|       Usado| Apartamento|Residencial| [1]|[{0, 0, Venda, 15...|\n",
            "|    1|      [41]|     [41]|      [1]|[Portaria 24h, Co...|{Guaratiba, 23036...|18d22cbe-1b86-476...|    [2]|    []|       Usado| Apartamento|Residencial| [1]|[{0, 0, Venda, 20...|\n",
            "|    3|      [43]|     [43]|      [1]|[Churrasqueira, P...|{Cosmos, 23066271...|bed8a354-9317-442...|    [2]|    []|       Usado| Apartamento|Residencial| [0]|[{285, null, Vend...|\n",
            "|    2|      [43]|     [43]|      [1]|[Academia, Churra...|{Guaratiba, 23036...|12a13315-d67f-48f...|    [2]|    []|       Usado| Apartamento|Residencial| [1]|[{245, null, Vend...|\n",
            "|    3|      [43]|     [43]|      [1]|[Churrasqueira, P...|{Cosmos, 23066271...|a2e6d7a5-0ff0-484...|    [2]|   [0]|       Usado| Apartamento|Residencial| [0]|[{285, null, Vend...|\n",
            "|    3|      [43]|     [43]|      [1]|[Churrasqueira, P...|{Paciência, 23585...|a6e3173b-c950-4db...|    [2]|    []|       Usado| Apartamento|Residencial| [1]|[{250, null, Vend...|\n",
            "|    3|      [43]|     [43]|      [1]|[Churrasqueira, P...|{Guaratiba, 23036...|2e6e5dfb-206c-496...|    [2]|   [0]|       Usado| Apartamento|Residencial| [1]|[{245, null, Vend...|\n",
            "|    3|      [43]|     [43]|      [1]|[Churrasqueira, P...|{Paciência, 23585...|99f8d0f9-95a4-461...|    [2]|   [0]|       Usado| Apartamento|Residencial| [1]|[{245, null, Vend...|\n",
            "|    4|      [43]|     [43]|      [1]|[Churrasqueira, P...|{Guaratiba, 23036...|b3f44c1a-2d50-4d5...|    [2]|    []|       Usado| Apartamento|Residencial| [1]|[{240, null, Vend...|\n",
            "|    0|      [60]|     [60]|      [1]|[Condomínio fechado]|{Pedra de Guarati...|dc99d9e1-4c63-41f...|    [2]|    []|       Usado| Apartamento|Residencial| [1]|[{0, 0, Venda, 15...|\n",
            "|    1|      [43]|     [43]|      [1]|[Churrasqueira, P...|{Cosmos, 23056630...|aa3606d8-8bcd-45e...|    [2]|    []|       Usado| Apartamento|Residencial| [1]|[{240, 0, Venda, ...|\n",
            "|    0|      [43]|     [43]|      [1]|[Churrasqueira, P...|{Campo Grande, 23...|df80b0d5-677c-4be...|    [2]|   [0]|       Usado| Apartamento|Residencial| [0]|[{245, null, Vend...|\n",
            "|    2|      [43]|     [43]|      [1]|[Academia, Churra...|{Santa Cruz, 2352...|3d6c0218-9b7d-474...|    [2]|    []|       Usado| Apartamento|Residencial| [2]|[{290, null, Vend...|\n",
            "|    3|      [43]|     [43]|      [1]|[Salão de festas,...|{Guaratiba, 23020...|304266cc-62d1-4ce...|    [2]|    []|       Usado| Apartamento|Residencial|  []|[{285, null, Vend...|\n",
            "|    4|      [55]|     [55]|      [2]|[Academia, Churra...|{Recreio dos Band...|111472a2-afa1-4a7...|    [2]|   [1]|       Usado| Apartamento|Residencial| [1]|[{0, 0, Venda, 30...|\n",
            "|    0|      [45]|     [45]|      [1]|[Playground, Pisc...|{Cosmos, 23066271...|275c1589-6537-4bf...|    [2]|   [0]|       Usado| Apartamento|Residencial| [1]|[{null, null, Ven...|\n",
            "|    5|      [42]|     [42]|      [1]|[Condomínio fecha...|{Realengo, 217251...|ab8f367f-7509-45c...|    [2]|   [0]|       Usado| Apartamento|Residencial| [0]|[{280, 0, Venda, ...|\n",
            "|    1|      [43]|     [43]|      [1]|[Churrasqueira, P...|{Cosmos, 23058001...|e0a3d370-66dd-4f5...|    [2]|    []|       Usado| Apartamento|Residencial| [1]|[{280, null, Vend...|\n",
            "|    3|        []|     [55]|      [1]|[Academia, Churra...|{Todos os Santos,...|09c8ba2d-dbf1-487...|    [2]|   [1]|       Usado| Apartamento|Residencial| [1]|[{0, 0, Venda, 26...|\n",
            "+-----+----------+---------+---------+--------------------+--------------------+--------------------+-------+------+------------+------------+-----------+----+--------------------+\n",
            "only showing top 20 rows\n",
            "\n"
          ]
        }
      ]
    },
    {
      "cell_type": "code",
      "source": [
        "lista = [\"quartos\", \"suites\", \"banheiros\", \"vaga\", \"area_total\" , \"area_util\"]"
      ],
      "metadata": {
        "id": "z1cysoVGNVb7"
      },
      "execution_count": null,
      "outputs": []
    },
    {
      "cell_type": "code",
      "source": [
        "for i in lista:\n",
        "  anuncio = anuncio.withColumn(i, f.element_at(f.col(i), 1))"
      ],
      "metadata": {
        "id": "K3oKDmnvy3fc"
      },
      "execution_count": null,
      "outputs": []
    },
    {
      "cell_type": "code",
      "source": [
        "anuncio.printSchema()"
      ],
      "metadata": {
        "colab": {
          "base_uri": "https://localhost:8080/"
        },
        "id": "nDhQUn9-M7Y7",
        "outputId": "57c77189-5cef-48a6-e449-de0e6e3d8f2e"
      },
      "execution_count": null,
      "outputs": [
        {
          "output_type": "stream",
          "name": "stdout",
          "text": [
            "root\n",
            " |-- andar: long (nullable = true)\n",
            " |-- area_total: string (nullable = true)\n",
            " |-- area_util: string (nullable = true)\n",
            " |-- banheiros: long (nullable = true)\n",
            " |-- caracteristicas: array (nullable = true)\n",
            " |    |-- element: string (containsNull = true)\n",
            " |-- endereco: struct (nullable = true)\n",
            " |    |-- bairro: string (nullable = true)\n",
            " |    |-- cep: string (nullable = true)\n",
            " |    |-- cidade: string (nullable = true)\n",
            " |    |-- estado: string (nullable = true)\n",
            " |    |-- latitude: double (nullable = true)\n",
            " |    |-- longitude: double (nullable = true)\n",
            " |    |-- pais: string (nullable = true)\n",
            " |    |-- rua: string (nullable = true)\n",
            " |    |-- zona: string (nullable = true)\n",
            " |-- id: string (nullable = true)\n",
            " |-- quartos: long (nullable = true)\n",
            " |-- suites: long (nullable = true)\n",
            " |-- tipo_anuncio: string (nullable = true)\n",
            " |-- tipo_unidade: string (nullable = true)\n",
            " |-- tipo_uso: string (nullable = true)\n",
            " |-- vaga: long (nullable = true)\n",
            " |-- valores: array (nullable = true)\n",
            " |    |-- element: struct (containsNull = true)\n",
            " |    |    |-- condominio: string (nullable = true)\n",
            " |    |    |-- iptu: string (nullable = true)\n",
            " |    |    |-- tipo: string (nullable = true)\n",
            " |    |    |-- valor: string (nullable = true)\n",
            "\n"
          ]
        }
      ]
    },
    {
      "cell_type": "code",
      "source": [
        "anuncio.select($\"endereco\"(2))"
      ],
      "metadata": {
        "colab": {
          "base_uri": "https://localhost:8080/",
          "height": 130
        },
        "id": "xKd09ocaMw9P",
        "outputId": "cb5734ef-8891-468e-9113-995ada813c8b"
      },
      "execution_count": null,
      "outputs": [
        {
          "output_type": "error",
          "ename": "SyntaxError",
          "evalue": "ignored",
          "traceback": [
            "\u001b[0;36m  File \u001b[0;32m\"<ipython-input-50-cd19bbbdfdf2>\"\u001b[0;36m, line \u001b[0;32m1\u001b[0m\n\u001b[0;31m    anuncio.select($\"endereco\"(2))\u001b[0m\n\u001b[0m                   ^\u001b[0m\n\u001b[0;31mSyntaxError\u001b[0m\u001b[0;31m:\u001b[0m invalid syntax\n"
          ]
        }
      ]
    },
    {
      "cell_type": "code",
      "source": [],
      "metadata": {
        "id": "Y6KZkggzO7Bm"
      },
      "execution_count": null,
      "outputs": []
    }
  ],
  "metadata": {
    "colab": {
      "provenance": [],
      "mount_file_id": "1zo9yKWJ15iIIg0OHU96neNuyG60bx9Oz",
      "authorship_tag": "ABX9TyMDeu7+00eyDVVLvtuTw5d3",
      "include_colab_link": true
    },
    "kernelspec": {
      "display_name": "Python 3",
      "name": "python3"
    },
    "language_info": {
      "name": "python"
    }
  },
  "nbformat": 4,
  "nbformat_minor": 0
}