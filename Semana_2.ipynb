{
  "cells": [
    {
      "cell_type": "markdown",
      "metadata": {
        "id": "view-in-github",
        "colab_type": "text"
      },
      "source": [
        "<a href=\"https://colab.research.google.com/github/Heveraldob12/Alura_Challenge_Spark/blob/main/Semana_2.ipynb\" target=\"_parent\"><img src=\"https://colab.research.google.com/assets/colab-badge.svg\" alt=\"Open In Colab\"/></a>"
      ]
    },
    {
      "cell_type": "markdown",
      "metadata": {
        "id": "8IkVEQNOZTXn"
      },
      "source": [
        "## Instalando Spark\n"
      ]
    },
    {
      "cell_type": "code",
      "execution_count": 1,
      "metadata": {
        "id": "zHzc4iOKZJqj"
      },
      "outputs": [],
      "source": [
        "!apt-get update -qq\n",
        "!apt-get install openjdk-8-jdk-headless -qq > /dev/null\n",
        "!wget -q https://archive.apache.org/dist/spark/spark-3.1.2/spark-3.1.2-bin-hadoop2.7.tgz\n",
        "!tar xf spark-3.1.2-bin-hadoop2.7.tgz\n",
        "!pip install -q findspark\n",
        "     "
      ]
    },
    {
      "cell_type": "code",
      "execution_count": 2,
      "metadata": {
        "id": "smEDJ85OZYkw"
      },
      "outputs": [],
      "source": [
        "import os\n",
        "os.environ[\"JAVA_HOME\"] = \"/usr/lib/jvm/java-8-openjdk-amd64\"\n",
        "os.environ[\"SPARK_HOME\"] = \"/content/spark-3.1.2-bin-hadoop2.7\""
      ]
    },
    {
      "cell_type": "code",
      "execution_count": 3,
      "metadata": {
        "id": "X31Fdqbkk-pw"
      },
      "outputs": [],
      "source": [
        "import findspark\n",
        "findspark.init()"
      ]
    },
    {
      "cell_type": "code",
      "execution_count": 4,
      "metadata": {
        "id": "jfs-h9xBlBvN"
      },
      "outputs": [],
      "source": [
        "from pyspark.sql import SparkSession\n",
        "\n",
        "spark = SparkSession.builder \\\n",
        "    .master('local[*]') \\\n",
        "    .appName(\"Iniciando com Spark\") \\\n",
        "    .getOrCreate()"
      ]
    },
    {
      "cell_type": "code",
      "execution_count": 5,
      "metadata": {
        "id": "SwXHbKUFMjfQ"
      },
      "outputs": [],
      "source": [
        "from pyspark.sql import functions as f\n",
        "from pyspark.sql.types import IntegerType, DoubleType"
      ]
    },
    {
      "cell_type": "markdown",
      "metadata": {
        "id": "IQk3IR67zCHj"
      },
      "source": [
        "## Base de dados - Vista inicial"
      ]
    },
    {
      "cell_type": "code",
      "execution_count": 6,
      "metadata": {
        "colab": {
          "base_uri": "https://localhost:8080/"
        },
        "id": "KmPRNfxfS7d_",
        "outputId": "b62b256d-b8ac-4a81-9a57-084c0cce9a1e"
      },
      "outputs": [
        {
          "output_type": "stream",
          "name": "stdout",
          "text": [
            "Mounted at /content/drive\n"
          ]
        }
      ],
      "source": [
        "from google.colab import drive\n",
        "drive.mount('/content/drive')"
      ]
    },
    {
      "cell_type": "code",
      "execution_count": 7,
      "metadata": {
        "id": "CLf0fKOFZZQQ"
      },
      "outputs": [],
      "source": [
        "path_dados_file='/content/drive/MyDrive/Challenge/anuncio/part-00000-bb8f1917-41a9-4bee-bb1f-fde25f0d323e-c000.snappy.parquet'\n",
        "anuncio = spark.read.parquet(path_dados_file)"
      ]
    },
    {
      "cell_type": "code",
      "execution_count": 8,
      "metadata": {
        "colab": {
          "base_uri": "https://localhost:8080/"
        },
        "id": "5Pnfl8JDeQTc",
        "outputId": "cf4a110c-bea2-4b92-e0ad-80046c0bb3b1"
      },
      "outputs": [
        {
          "output_type": "stream",
          "name": "stdout",
          "text": [
            "root\n",
            " |-- andar: long (nullable = true)\n",
            " |-- area_total: integer (nullable = true)\n",
            " |-- area_util: array (nullable = true)\n",
            " |    |-- element: string (containsNull = true)\n",
            " |-- banheiros: integer (nullable = true)\n",
            " |-- caracteristicas: array (nullable = true)\n",
            " |    |-- element: string (containsNull = true)\n",
            " |-- id: string (nullable = true)\n",
            " |-- quartos: integer (nullable = true)\n",
            " |-- suites: integer (nullable = true)\n",
            " |-- tipo_anuncio: string (nullable = true)\n",
            " |-- tipo_unidade: string (nullable = true)\n",
            " |-- tipo_uso: string (nullable = true)\n",
            " |-- vaga: integer (nullable = true)\n",
            " |-- bairro: string (nullable = true)\n",
            " |-- zona: string (nullable = true)\n",
            " |-- valor: string (nullable = true)\n",
            " |-- tipo: string (nullable = true)\n",
            " |-- iptu: string (nullable = true)\n",
            " |-- condominio: string (nullable = true)\n",
            "\n"
          ]
        }
      ],
      "source": [
        "anuncio.printSchema()"
      ]
    },
    {
      "cell_type": "code",
      "execution_count": 9,
      "metadata": {
        "colab": {
          "base_uri": "https://localhost:8080/"
        },
        "id": "5QR7RnWMephR",
        "outputId": "f6ed7b9a-5416-40ef-a8a8-3fbfd68b77cf"
      },
      "outputs": [
        {
          "output_type": "stream",
          "name": "stdout",
          "text": [
            "+-----+----------+---------+---------+--------------------+--------------------+-------+------+------------+------------+-----------+----+--------------------+----------+-----+-----+----+----------+\n",
            "|andar|area_total|area_util|banheiros|     caracteristicas|                  id|quartos|suites|tipo_anuncio|tipo_unidade|   tipo_uso|vaga|              bairro|      zona|valor| tipo|iptu|condominio|\n",
            "+-----+----------+---------+---------+--------------------+--------------------+-------+------+------------+------------+-----------+----+--------------------+----------+-----+-----+----+----------+\n",
            "|    3|        43|     [43]|        1|[Academia, Churra...|d2e3a3aa-09b5-45a...|      2|  null|       Usado| Apartamento|Residencial|   1|           Paciência|Zona Oeste|15000|Venda|null|       245|\n",
            "|    2|        42|     [42]|        1|[Churrasqueira, P...|085bab2c-87ad-452...|      2|  null|       Usado| Apartamento|Residencial|   1|           Paciência|Zona Oeste|15000|Venda|   0|         0|\n",
            "|    1|        41|     [41]|        1|[Portaria 24h, Co...|18d22cbe-1b86-476...|      2|  null|       Usado| Apartamento|Residencial|   1|           Guaratiba|Zona Oeste|20000|Venda|   0|         0|\n",
            "|    3|        43|     [43]|        1|[Churrasqueira, P...|bed8a354-9317-442...|      2|  null|       Usado| Apartamento|Residencial|   0|              Cosmos|Zona Oeste|20000|Venda|null|       285|\n",
            "|    2|        43|     [43]|        1|[Academia, Churra...|12a13315-d67f-48f...|      2|  null|       Usado| Apartamento|Residencial|   1|           Guaratiba|Zona Oeste|15000|Venda|null|       245|\n",
            "|    3|        43|     [43]|        1|[Churrasqueira, P...|a2e6d7a5-0ff0-484...|      2|     0|       Usado| Apartamento|Residencial|   0|              Cosmos|Zona Oeste|20000|Venda|null|       285|\n",
            "|    3|        43|     [43]|        1|[Churrasqueira, P...|a6e3173b-c950-4db...|      2|  null|       Usado| Apartamento|Residencial|   1|           Paciência|Zona Oeste|15000|Venda|null|       250|\n",
            "|    3|        43|     [43]|        1|[Churrasqueira, P...|2e6e5dfb-206c-496...|      2|     0|       Usado| Apartamento|Residencial|   1|           Guaratiba|Zona Oeste|15000|Venda|null|       245|\n",
            "|    3|        43|     [43]|        1|[Churrasqueira, P...|99f8d0f9-95a4-461...|      2|     0|       Usado| Apartamento|Residencial|   1|           Paciência|Zona Oeste|15000|Venda|null|       245|\n",
            "|    4|        43|     [43]|        1|[Churrasqueira, P...|b3f44c1a-2d50-4d5...|      2|  null|       Usado| Apartamento|Residencial|   1|           Guaratiba|Zona Oeste|17999|Venda|null|       240|\n",
            "|    0|        60|     [60]|        1|[Condomínio fechado]|dc99d9e1-4c63-41f...|      2|  null|       Usado| Apartamento|Residencial|   1|  Pedra de Guaratiba|Zona Oeste|15000|Venda|   0|         0|\n",
            "|    1|        43|     [43]|        1|[Churrasqueira, P...|aa3606d8-8bcd-45e...|      2|  null|       Usado| Apartamento|Residencial|   1|              Cosmos|Zona Oeste|19999|Venda|   0|       240|\n",
            "|    0|        43|     [43]|        1|[Churrasqueira, P...|df80b0d5-677c-4be...|      2|     0|       Usado| Apartamento|Residencial|   0|        Campo Grande|Zona Oeste|19999|Venda|null|       245|\n",
            "|    2|        43|     [43]|        1|[Academia, Churra...|3d6c0218-9b7d-474...|      2|  null|       Usado| Apartamento|Residencial|   2|          Santa Cruz|Zona Oeste|25000|Venda|null|       290|\n",
            "|    3|        43|     [43]|        1|[Salão de festas,...|304266cc-62d1-4ce...|      2|  null|       Usado| Apartamento|Residencial|null|           Guaratiba|Zona Oeste|29999|Venda|null|       285|\n",
            "|    4|        55|     [55]|        2|[Academia, Churra...|111472a2-afa1-4a7...|      2|     1|       Usado| Apartamento|Residencial|   1|Recreio dos Bande...|Zona Oeste|30000|Venda|   0|         0|\n",
            "|    0|        45|     [45]|        1|[Playground, Pisc...|275c1589-6537-4bf...|      2|     0|       Usado| Apartamento|Residencial|   1|              Cosmos|Zona Oeste|30000|Venda|null|      null|\n",
            "|    5|        42|     [42]|        1|[Condomínio fecha...|ab8f367f-7509-45c...|      2|     0|       Usado| Apartamento|Residencial|   0|            Realengo|Zona Oeste|25000|Venda|   0|       280|\n",
            "|    1|        43|     [43]|        1|[Churrasqueira, P...|e0a3d370-66dd-4f5...|      2|  null|       Usado| Apartamento|Residencial|   1|              Cosmos|Zona Oeste|27999|Venda|null|       280|\n",
            "|    3|      null|     [55]|        1|[Academia, Churra...|09c8ba2d-dbf1-487...|      2|     1|       Usado| Apartamento|Residencial|   1|     Todos os Santos|Zona Norte|26000|Venda|   0|         0|\n",
            "+-----+----------+---------+---------+--------------------+--------------------+-------+------+------------+------------+-----------+----+--------------------+----------+-----+-----+----+----------+\n",
            "only showing top 20 rows\n",
            "\n"
          ]
        }
      ],
      "source": [
        "anuncio.show()"
      ]
    },
    {
      "cell_type": "markdown",
      "metadata": {
        "id": "LpQEaTEFSR8l"
      },
      "source": [
        "# Dummy Caracteristicas e Zona"
      ]
    },
    {
      "cell_type": "code",
      "execution_count": 10,
      "metadata": {
        "id": "2UK5FbGPKUKg"
      },
      "outputs": [],
      "source": [
        "anuncio= anuncio.filter(anuncio['zona'] != '' )"
      ]
    },
    {
      "cell_type": "code",
      "execution_count": 11,
      "metadata": {
        "colab": {
          "base_uri": "https://localhost:8080/"
        },
        "id": "SfySpwl7Ko2A",
        "outputId": "91729158-cc3a-4b70-fc90-64965a64cbf1"
      },
      "outputs": [
        {
          "output_type": "stream",
          "name": "stdout",
          "text": [
            "[Row(zona='Zona Norte'), Row(zona='Zona Oeste'), Row(zona='Zona Central'), Row(zona='Zona Sul')]\n"
          ]
        }
      ],
      "source": [
        "print(anuncio.select('zona').distinct().collect())\n"
      ]
    },
    {
      "cell_type": "code",
      "execution_count": 12,
      "metadata": {
        "id": "S5jGJ_WSSoMV"
      },
      "outputs": [],
      "source": [
        "zona = anuncio.groupBy('id').pivot('zona').agg(f.lit(1)).na.fill(0)\n",
        "anuncio= anuncio.join(zona, 'id', how='left').drop('zona')"
      ]
    },
    {
      "cell_type": "code",
      "execution_count": 13,
      "metadata": {
        "colab": {
          "base_uri": "https://localhost:8080/"
        },
        "id": "GDrZMZ--PFFP",
        "outputId": "e73605cf-79c9-435f-ec86-aa9fffa1cec9"
      },
      "outputs": [
        {
          "output_type": "stream",
          "name": "stdout",
          "text": [
            "+------------------+-----+\n",
            "|               col|count|\n",
            "+------------------+-----+\n",
            "|Condomínio fechado|34930|\n",
            "|        Playground|31805|\n",
            "| Portão eletrônico|29303|\n",
            "|           Piscina|33170|\n",
            "|Animais permitidos|30589|\n",
            "|      Portaria 24h|30342|\n",
            "|          Elevador|42929|\n",
            "|          Academia|27602|\n",
            "|   Salão de festas|33530|\n",
            "|     Churrasqueira|31672|\n",
            "+------------------+-----+\n",
            "\n"
          ]
        }
      ],
      "source": [
        "caracteristicas = anuncio.select(anuncio['id'],f.explode(anuncio['caracteristicas']))\n",
        "caracteristicas.groupBy('col').count().show()\n",
        "caracteristicas = caracteristicas.groupBy('id').pivot('col').agg(f.lit(1)).na.fill(0)"
      ]
    },
    {
      "cell_type": "code",
      "execution_count": 14,
      "metadata": {
        "id": "p9DG093hR3J-"
      },
      "outputs": [],
      "source": [
        "anuncio=anuncio.join(caracteristicas, 'id', how='left').drop('caracteristicas')"
      ]
    },
    {
      "cell_type": "code",
      "execution_count": 15,
      "metadata": {
        "colab": {
          "base_uri": "https://localhost:8080/"
        },
        "id": "H4SyI_kMUbk8",
        "outputId": "d27ff26c-0d23-41ba-a80b-6001bbd6e47e"
      },
      "outputs": [
        {
          "output_type": "stream",
          "name": "stdout",
          "text": [
            "+--------------------+-----+----------+---------+---------+-------+------+------------+------------+-----------+----+--------------------+--------+-----+-----+----------+------------+----------+----------+--------+--------+------------------+-------------+------------------+--------+-------+----------+------------+-----------------+---------------+\n",
            "|                  id|andar|area_total|area_util|banheiros|quartos|suites|tipo_anuncio|tipo_unidade|   tipo_uso|vaga|              bairro|   valor| tipo| iptu|condominio|Zona Central|Zona Norte|Zona Oeste|Zona Sul|Academia|Animais permitidos|Churrasqueira|Condomínio fechado|Elevador|Piscina|Playground|Portaria 24h|Portão eletrônico|Salão de festas|\n",
            "+--------------------+-----+----------+---------+---------+-------+------+------------+------------+-----------+----+--------------------+--------+-----+-----+----------+------------+----------+----------+--------+--------+------------------+-------------+------------------+--------+-------+----------+------------+-----------------+---------------+\n",
            "|006e2b19-f4de-450...|    0|       116|    [116]|        2|      3|     1|       Usado| Apartamento|Residencial|   1|     Barra da Tijuca| 3793260|Venda|  100|       100|           0|         0|         1|       0|       1|                 1|            1|                 1|       1|      1|         1|           1|                1|              1|\n",
            "|011acce0-129f-4c2...|    0|       143|    [143]|        4|      4|     3|       Usado| Apartamento|Residencial|   1|         Jacarepaguá| 1600000|Venda| 2000|      3948|           0|         0|         1|       0|       0|                 0|            1|                 0|       0|      1|         0|           0|                0|              0|\n",
            "|013c582b-eca8-474...|    7|       236|    [236]|        4|      5|     2|       Usado| Apartamento|Residencial|   3|Freguesia (Jacare...| 1535000|Venda|   20|        20|           0|         0|         1|       0|       1|                 1|            1|                 1|       1|      1|         1|           1|                1|              1|\n",
            "|013d04e0-6054-4ac...|    0|       215|    [215]|        3|      3|     1|       Usado| Apartamento|Residencial|   2|            Botafogo| 2279540|Venda| 4500|      1685|           0|         0|         0|       1|       0|                 0|            1|                 0|       1|      0|         0|           0|                0|              0|\n",
            "|02fba6ef-a691-442...|    3|        64|     [64]|        1|      2|     2|       Usado| Apartamento|Residencial|   1|         Jacarepaguá|  380000|Venda|   80|       784|           0|         0|         1|       0|       1|                 1|            1|                 1|       1|      1|         1|           1|                1|              1|\n",
            "|03a386b6-7ab8-4ef...|    0|        43|     [43]|        1|      2|  null|       Usado| Apartamento|Residencial|   1|            Realengo|   22999|Venda| null|       285|           0|         0|         1|       0|       1|                 1|            1|                 1|       0|      0|         1|           1|                1|              1|\n",
            "|05e0cf33-59c4-4dd...|    2|        66|     [66]|        2|      2|     0|       Usado| Apartamento|Residencial|   1|              Leblon| 1200000|Venda|  210|      1600|           0|         0|         0|       1|       0|                 0|            0|                 0|       1|      0|         0|           1|                0|              1|\n",
            "|06e17192-b0ea-404...|    0|       154|    [154]|        5|      4|  null|       Usado| Apartamento|Residencial|   3|     Barra da Tijuca| 2200000|Venda| 4400|      1780|           0|         0|         1|       0|       1|                 1|            0|                 1|       1|      1|         0|           0|                0|              1|\n",
            "|075962eb-be7f-47c...|    0|       100|    [100]|        3|      2|     1|       Usado| Apartamento|Residencial|   1|             Ipanema| 2000000|Venda| 7840|      5000|           0|         0|         0|       1|       0|                 0|            0|                 0|       0|      1|         1|           0|                0|              0|\n",
            "|07ab6e4a-fd5e-4c0...|    0|        70|     [70]|        2|      2|     0|       Usado| Apartamento|Residencial|   1|            Maracanã|  438999|Venda|    1|       550|           0|         1|         0|       0|       0|                 0|            0|                 0|       1|      0|         0|           0|                0|              0|\n",
            "|07bb07c1-21cc-4da...|    2|        50|     [48]|        1|      1|     0|       Usado| Apartamento|Residencial|   0|             Piedade|  170000|Venda|   10|        10|           0|         1|         0|       0|       0|                 1|            0|                 1|       0|      0|         0|           0|                0|              0|\n",
            "|07cbfef2-efbf-4e8...|    1|       120|    [120]|        2|      3|     0|       Usado| Apartamento|Residencial|   0|          Copacabana|  950000|Venda|  270|       950|           0|         0|         0|       1|       0|                 1|            0|                 0|       1|      0|         0|           1|                0|              0|\n",
            "|085e90da-4e5e-4bd...|    0|      null|    [102]|        2|      2|     2|       Usado| Apartamento|Residencial|   1|         São Conrado|  950000|Venda|    1|         1|           0|         0|         0|       1|       1|                 1|            1|                 1|       1|      1|         1|           1|                1|              1|\n",
            "|092409e4-0c46-454...|    0|      null|     [72]|        1|      2|     0|       Usado| Apartamento|Residencial|   1|                Leme|  750000|Venda|  225|      2000|           0|         0|         0|       1|       0|                 1|            1|                 1|       1|      0|         0|           0|                1|              0|\n",
            "|0a00abfe-d8ac-487...|    0|        68|     [68]|        1|      2|     0|       Usado| Apartamento|Residencial|   0|               Zumbi|  340000|Venda|  230|       750|           0|         1|         0|       0|    null|              null|         null|              null|    null|   null|      null|        null|             null|           null|\n",
            "|0b3f15d1-a6fe-429...|    2|       183|    [183]|        3|      4|     2|       Usado| Apartamento|Residencial|   2|               Lagoa| 5784000|Venda|   20|        20|           0|         0|         0|       1|       1|                 0|            0|                 1|       1|      0|         1|           0|                0|              0|\n",
            "|0e3cea1c-fddc-4c5...|    0|       381|    [381]|        6|      4|     4|       Usado| Apartamento|Residencial|   3|     Barra da Tijuca|10800000|Venda|28000|      6000|           0|         0|         1|       0|    null|              null|         null|              null|    null|   null|      null|        null|             null|           null|\n",
            "|0e7f7703-c27b-4ac...|    4|        51|     [51]|        1|      2|     0|       Usado| Apartamento|Residencial|   1|         Jacarepaguá|  239000|Venda|   85|       435|           0|         0|         1|       0|       1|                 1|            1|                 1|       1|      1|         1|           1|                1|              1|\n",
            "|0f8b79dd-85ac-48b...|    0|       168|    [168]|        5|      4|     1|       Usado| Apartamento|Residencial|   2|     Barra da Tijuca| 3250000|Venda|  900|      2700|           0|         0|         1|       0|       0|                 0|            0|                 1|       0|      0|         0|           0|                0|              0|\n",
            "|0f92a7ef-415f-4b5...|    0|       140|    [140]|        3|      3|     1|       Usado| Apartamento|Residencial|   1|          Copacabana| 1650000|Venda| 3800|      1400|           0|         0|         0|       1|       0|                 0|            0|                 1|       1|      0|         0|           1|                1|              0|\n",
            "+--------------------+-----+----------+---------+---------+-------+------+------------+------------+-----------+----+--------------------+--------+-----+-----+----------+------------+----------+----------+--------+--------+------------------+-------------+------------------+--------+-------+----------+------------+-----------------+---------------+\n",
            "only showing top 20 rows\n",
            "\n"
          ]
        }
      ],
      "source": [
        "anuncio.show()"
      ]
    },
    {
      "cell_type": "markdown",
      "metadata": {
        "id": "VNvfA9YzSL69"
      },
      "source": [
        "## Tratamento e Remoção de colunas"
      ]
    },
    {
      "cell_type": "code",
      "execution_count": 16,
      "metadata": {
        "id": "SGeDCqLMXQdV"
      },
      "outputs": [],
      "source": [
        "anuncio = anuncio.withColumn(\"area_util\", anuncio[\"area_util\"][0].cast(\"double\"))"
      ]
    },
    {
      "cell_type": "code",
      "execution_count": 17,
      "metadata": {
        "id": "PZSiEHIhTa33"
      },
      "outputs": [],
      "source": [
        "def str_para_double(lista,data=anuncio):\n",
        "  for i in lista:\n",
        "    data = data.withColumn(i, f.col(i).cast(\"double\"))\n",
        "  return data"
      ]
    },
    {
      "cell_type": "code",
      "execution_count": 18,
      "metadata": {
        "id": "5VLCG6yFVS8M"
      },
      "outputs": [],
      "source": [
        "lista=[ \"condominio\", \"iptu\" , \"valor\"]"
      ]
    },
    {
      "cell_type": "code",
      "execution_count": 19,
      "metadata": {
        "id": "KAByStOWVZEU"
      },
      "outputs": [],
      "source": [
        "anuncio = str_para_double(lista)"
      ]
    },
    {
      "cell_type": "code",
      "execution_count": 20,
      "metadata": {
        "colab": {
          "base_uri": "https://localhost:8080/"
        },
        "id": "YW0uPGdIVcHG",
        "outputId": "36bd2970-48d6-4c51-ae31-6c2d8c059df1"
      },
      "outputs": [
        {
          "output_type": "stream",
          "name": "stdout",
          "text": [
            "root\n",
            " |-- id: string (nullable = true)\n",
            " |-- andar: long (nullable = true)\n",
            " |-- area_total: integer (nullable = true)\n",
            " |-- area_util: double (nullable = true)\n",
            " |-- banheiros: integer (nullable = true)\n",
            " |-- quartos: integer (nullable = true)\n",
            " |-- suites: integer (nullable = true)\n",
            " |-- tipo_anuncio: string (nullable = true)\n",
            " |-- tipo_unidade: string (nullable = true)\n",
            " |-- tipo_uso: string (nullable = true)\n",
            " |-- vaga: integer (nullable = true)\n",
            " |-- bairro: string (nullable = true)\n",
            " |-- valor: double (nullable = true)\n",
            " |-- tipo: string (nullable = true)\n",
            " |-- iptu: double (nullable = true)\n",
            " |-- condominio: double (nullable = true)\n",
            " |-- Zona Central: integer (nullable = true)\n",
            " |-- Zona Norte: integer (nullable = true)\n",
            " |-- Zona Oeste: integer (nullable = true)\n",
            " |-- Zona Sul: integer (nullable = true)\n",
            " |-- Academia: integer (nullable = true)\n",
            " |-- Animais permitidos: integer (nullable = true)\n",
            " |-- Churrasqueira: integer (nullable = true)\n",
            " |-- Condomínio fechado: integer (nullable = true)\n",
            " |-- Elevador: integer (nullable = true)\n",
            " |-- Piscina: integer (nullable = true)\n",
            " |-- Playground: integer (nullable = true)\n",
            " |-- Portaria 24h: integer (nullable = true)\n",
            " |-- Portão eletrônico: integer (nullable = true)\n",
            " |-- Salão de festas: integer (nullable = true)\n",
            "\n"
          ]
        }
      ],
      "source": [
        "anuncio.printSchema()"
      ]
    },
    {
      "cell_type": "code",
      "execution_count": 21,
      "metadata": {
        "colab": {
          "base_uri": "https://localhost:8080/"
        },
        "id": "F4YBhQPLYJUR",
        "outputId": "a5982c96-c920-486e-d6f5-918e09615757"
      },
      "outputs": [
        {
          "output_type": "stream",
          "name": "stdout",
          "text": [
            "[Row(tipo_uso='Comercial'), Row(tipo_uso='Residencial')]\n",
            "[Row(tipo_unidade='Apartamento')]\n",
            "[Row(tipo_anuncio='Usado'), Row(tipo_anuncio='Lançamento')]\n",
            "[Row(tipo='Venda')]\n"
          ]
        }
      ],
      "source": [
        "print(anuncio.select('tipo_uso').distinct().collect())\n",
        "print(anuncio.select('tipo_unidade').distinct().collect())\n",
        "print(anuncio.select('tipo_anuncio').distinct().collect())\n",
        "print(anuncio.select('tipo').distinct().collect())"
      ]
    },
    {
      "cell_type": "code",
      "execution_count": 22,
      "metadata": {
        "colab": {
          "base_uri": "https://localhost:8080/"
        },
        "id": "tfYWgNjPMOsk",
        "outputId": "b0f45cde-5e18-4263-cb1b-883feeb7a11a"
      },
      "outputs": [
        {
          "output_type": "stream",
          "name": "stdout",
          "text": [
            "+-------------------+-----+\n",
            "|             bairro|count|\n",
            "+-------------------+-----+\n",
            "|             Cocotá|   16|\n",
            "|              Gávea|  600|\n",
            "|       Tomás Coelho|   37|\n",
            "|            Ipanema| 2110|\n",
            "|           Realengo|   46|\n",
            "|      Gardênia Azul|    7|\n",
            "|      Bento Ribeiro|   33|\n",
            "|              Rocha|   38|\n",
            "|Vicente de Carvalho|   87|\n",
            "|         Manguinhos|    1|\n",
            "|        Jacarepaguá| 4441|\n",
            "|           Botafogo| 3521|\n",
            "|               Leme|  233|\n",
            "|       Campo Grande|  638|\n",
            "|       Padre Miguel|   15|\n",
            "|           Flamengo| 1372|\n",
            "|       Santo Cristo|  358|\n",
            "|  Engenho da Rainha|   25|\n",
            "| Pedra de Guaratiba|   12|\n",
            "|            Piedade|  103|\n",
            "+-------------------+-----+\n",
            "only showing top 20 rows\n",
            "\n"
          ]
        }
      ],
      "source": [
        "anuncio.groupBy('bairro').count().show()\n",
        "#Seria inviavel transformá-las em variáveis binarias o melhor seria remover essa coluna"
      ]
    },
    {
      "cell_type": "code",
      "execution_count": 23,
      "metadata": {
        "id": "s9QrGdW5Xg8-"
      },
      "outputs": [],
      "source": [
        "lista_remocao=('id','tipo_unidade','tipo','tipo_anuncio','tipo_uso','bairro')\n",
        "anuncio=anuncio.drop(*lista_remocao)"
      ]
    },
    {
      "cell_type": "markdown",
      "metadata": {
        "id": "DJFGjwzGMSgU"
      },
      "source": [
        "## Removendo dados Nulos"
      ]
    },
    {
      "cell_type": "markdown",
      "metadata": {
        "id": "pfoiEk3yN2B5"
      },
      "source": [
        "Visualizando a quantidade de dados nulos\n"
      ]
    },
    {
      "cell_type": "code",
      "execution_count": 24,
      "metadata": {
        "id": "ivhpNh51aEzC",
        "colab": {
          "base_uri": "https://localhost:8080/"
        },
        "outputId": "aa04d06b-1792-4f31-97fe-3a68ba219218"
      },
      "outputs": [
        {
          "output_type": "stream",
          "name": "stdout",
          "text": [
            "+-----+----------+---------+---------+-------+------+----+-----+----+----------+------------+----------+----------+--------+--------+------------------+-------------+------------------+--------+-------+----------+------------+-----------------+---------------+\n",
            "|andar|area_total|area_util|banheiros|quartos|suites|vaga|valor|iptu|condominio|Zona Central|Zona Norte|Zona Oeste|Zona Sul|Academia|Animais permitidos|Churrasqueira|Condomínio fechado|Elevador|Piscina|Playground|Portaria 24h|Portão eletrônico|Salão de festas|\n",
            "+-----+----------+---------+---------+-------+------+----+-----+----+----------+------------+----------+----------+--------+--------+------------------+-------------+------------------+--------+-------+----------+------------+-----------------+---------------+\n",
            "|    0|      9409|        0|        0|      0|  5542|3005|   22|7152|      2347|           0|         0|         0|       0|   12895|             12895|        12895|             12895|   12895|  12895|     12895|       12895|            12895|          12895|\n",
            "+-----+----------+---------+---------+-------+------+----+-----+----+----------+------------+----------+----------+--------+--------+------------------+-------------+------------------+--------+-------+----------+------------+-----------------+---------------+\n",
            "\n"
          ]
        }
      ],
      "source": [
        "anuncio.select([f.count(f.when(f.isnull(c), 1)).alias(c) for c in anuncio.columns]).show()"
      ]
    },
    {
      "cell_type": "code",
      "execution_count": 25,
      "metadata": {
        "id": "FiFZ734bM0lk"
      },
      "outputs": [],
      "source": [
        "'''Entre area_total e area_util a area_total tem mais dados nulos\n",
        "   e não é necessario ter essas duas colunas, ou seja, a area_total irei remover'''\n",
        "anuncio =  anuncio.drop('area_total')\n",
        "\n",
        "  "
      ]
    },
    {
      "cell_type": "code",
      "execution_count": 26,
      "metadata": {
        "id": "hHMiLyPMNmng"
      },
      "outputs": [],
      "source": [
        "anuncio=anuncio.na.fill(0)"
      ]
    },
    {
      "cell_type": "code",
      "execution_count": 27,
      "metadata": {
        "id": "s8O2xLEWOI8V",
        "colab": {
          "base_uri": "https://localhost:8080/"
        },
        "outputId": "466afb76-3ec3-482b-e1d1-079845af4cbd"
      },
      "outputs": [
        {
          "output_type": "stream",
          "name": "stdout",
          "text": [
            "+-----+---------+---------+-------+------+----+-----+----+----------+------------+----------+----------+--------+--------+------------------+-------------+------------------+--------+-------+----------+------------+-----------------+---------------+\n",
            "|andar|area_util|banheiros|quartos|suites|vaga|valor|iptu|condominio|Zona Central|Zona Norte|Zona Oeste|Zona Sul|Academia|Animais permitidos|Churrasqueira|Condomínio fechado|Elevador|Piscina|Playground|Portaria 24h|Portão eletrônico|Salão de festas|\n",
            "+-----+---------+---------+-------+------+----+-----+----+----------+------------+----------+----------+--------+--------+------------------+-------------+------------------+--------+-------+----------+------------+-----------------+---------------+\n",
            "|    0|        0|        0|      0|     0|   0|    0|   0|         0|           0|         0|         0|       0|       0|                 0|            0|                 0|       0|      0|         0|           0|                0|              0|\n",
            "+-----+---------+---------+-------+------+----+-----+----+----------+------------+----------+----------+--------+--------+------------------+-------------+------------------+--------+-------+----------+------------+-----------------+---------------+\n",
            "\n"
          ]
        }
      ],
      "source": [
        "anuncio.select([f.count(f.when(f.isnull(c), 1)).alias(c) for c in anuncio.columns]).show()\n"
      ]
    },
    {
      "cell_type": "code",
      "source": [
        "anuncio=anuncio.withColumnRenamed('Zona Central',\"Zona_Central\")\\\n",
        "    .withColumnRenamed('Zona Norte',\"Zona_Norte\")\\\n",
        "    .withColumnRenamed('Zona Oeste',\"Zona_Oeste\")\\\n",
        "    .withColumnRenamed('Zona Sul',\"Zona_Sul\")\\\n",
        "    .withColumnRenamed('Animais permitidos','Animais_permitidos')\\\n",
        "    .withColumnRenamed('Condomínio fechado','Condomínio_fechado')\\\n",
        "    .withColumnRenamed( 'Portaria 24h', 'Portaria_24h')\\\n",
        "    .withColumnRenamed( 'Portão eletrônico', 'Portão_eletrônico')\\\n",
        "    .withColumnRenamed('Salão de festas','Salão_festas')\\\n",
        "    .withColumnRenamed(\"salary\",\"salary_amount\")"
      ],
      "metadata": {
        "id": "td4ygWA_8yIM"
      },
      "execution_count": 47,
      "outputs": []
    },
    {
      "cell_type": "code",
      "execution_count": 28,
      "metadata": {
        "id": "bmX4U24zPlNG",
        "colab": {
          "base_uri": "https://localhost:8080/"
        },
        "outputId": "af4d155c-7698-45e1-a1f2-9f7705c1c766"
      },
      "outputs": [
        {
          "output_type": "stream",
          "name": "stdout",
          "text": [
            "+-----+---------+---------+-------+------+----+---------+-------+----------+------------+----------+----------+--------+--------+------------------+-------------+------------------+--------+-------+----------+------------+-----------------+---------------+\n",
            "|andar|area_util|banheiros|quartos|suites|vaga|    valor|   iptu|condominio|Zona Central|Zona Norte|Zona Oeste|Zona Sul|Academia|Animais permitidos|Churrasqueira|Condomínio fechado|Elevador|Piscina|Playground|Portaria 24h|Portão eletrônico|Salão de festas|\n",
            "+-----+---------+---------+-------+------+----+---------+-------+----------+------------+----------+----------+--------+--------+------------------+-------------+------------------+--------+-------+----------+------------+-----------------+---------------+\n",
            "|    0|    116.0|        2|      3|     1|   1|3793260.0|  100.0|     100.0|           0|         0|         1|       0|       1|                 1|            1|                 1|       1|      1|         1|           1|                1|              1|\n",
            "|    0|    143.0|        4|      4|     3|   1|1600000.0| 2000.0|    3948.0|           0|         0|         1|       0|       0|                 0|            1|                 0|       0|      1|         0|           0|                0|              0|\n",
            "|    7|    236.0|        4|      5|     2|   3|1535000.0|   20.0|      20.0|           0|         0|         1|       0|       1|                 1|            1|                 1|       1|      1|         1|           1|                1|              1|\n",
            "|    0|    215.0|        3|      3|     1|   2|2279540.0| 4500.0|    1685.0|           0|         0|         0|       1|       0|                 0|            1|                 0|       1|      0|         0|           0|                0|              0|\n",
            "|    3|     64.0|        1|      2|     2|   1| 380000.0|   80.0|     784.0|           0|         0|         1|       0|       1|                 1|            1|                 1|       1|      1|         1|           1|                1|              1|\n",
            "|    0|     43.0|        1|      2|     0|   1|  22999.0|    0.0|     285.0|           0|         0|         1|       0|       1|                 1|            1|                 1|       0|      0|         1|           1|                1|              1|\n",
            "|    2|     66.0|        2|      2|     0|   1|1200000.0|  210.0|    1600.0|           0|         0|         0|       1|       0|                 0|            0|                 0|       1|      0|         0|           1|                0|              1|\n",
            "|    0|    154.0|        5|      4|     0|   3|2200000.0| 4400.0|    1780.0|           0|         0|         1|       0|       1|                 1|            0|                 1|       1|      1|         0|           0|                0|              1|\n",
            "|    0|    100.0|        3|      2|     1|   1|2000000.0| 7840.0|    5000.0|           0|         0|         0|       1|       0|                 0|            0|                 0|       0|      1|         1|           0|                0|              0|\n",
            "|    0|     70.0|        2|      2|     0|   1| 438999.0|    1.0|     550.0|           0|         1|         0|       0|       0|                 0|            0|                 0|       1|      0|         0|           0|                0|              0|\n",
            "|    2|     48.0|        1|      1|     0|   0| 170000.0|   10.0|      10.0|           0|         1|         0|       0|       0|                 1|            0|                 1|       0|      0|         0|           0|                0|              0|\n",
            "|    1|    120.0|        2|      3|     0|   0| 950000.0|  270.0|     950.0|           0|         0|         0|       1|       0|                 1|            0|                 0|       1|      0|         0|           1|                0|              0|\n",
            "|    0|    102.0|        2|      2|     2|   1| 950000.0|    1.0|       1.0|           0|         0|         0|       1|       1|                 1|            1|                 1|       1|      1|         1|           1|                1|              1|\n",
            "|    0|     72.0|        1|      2|     0|   1| 750000.0|  225.0|    2000.0|           0|         0|         0|       1|       0|                 1|            1|                 1|       1|      0|         0|           0|                1|              0|\n",
            "|    0|     68.0|        1|      2|     0|   0| 340000.0|  230.0|     750.0|           0|         1|         0|       0|       0|                 0|            0|                 0|       0|      0|         0|           0|                0|              0|\n",
            "|    2|    183.0|        3|      4|     2|   2|5784000.0|   20.0|      20.0|           0|         0|         0|       1|       1|                 0|            0|                 1|       1|      0|         1|           0|                0|              0|\n",
            "|    0|    381.0|        6|      4|     4|   3|   1.08E7|28000.0|    6000.0|           0|         0|         1|       0|       0|                 0|            0|                 0|       0|      0|         0|           0|                0|              0|\n",
            "|    4|     51.0|        1|      2|     0|   1| 239000.0|   85.0|     435.0|           0|         0|         1|       0|       1|                 1|            1|                 1|       1|      1|         1|           1|                1|              1|\n",
            "|    0|    168.0|        5|      4|     1|   2|3250000.0|  900.0|    2700.0|           0|         0|         1|       0|       0|                 0|            0|                 1|       0|      0|         0|           0|                0|              0|\n",
            "|    0|    140.0|        3|      3|     1|   1|1650000.0| 3800.0|    1400.0|           0|         0|         0|       1|       0|                 0|            0|                 1|       1|      0|         0|           1|                1|              0|\n",
            "+-----+---------+---------+-------+------+----+---------+-------+----------+------------+----------+----------+--------+--------+------------------+-------------+------------------+--------+-------+----------+------------+-----------------+---------------+\n",
            "only showing top 20 rows\n",
            "\n"
          ]
        }
      ],
      "source": [
        "anuncio.show()"
      ]
    },
    {
      "cell_type": "markdown",
      "metadata": {
        "id": "-bXG8cZ_I2ry"
      },
      "source": [
        "# Modelos"
      ]
    },
    {
      "cell_type": "markdown",
      "metadata": {
        "id": "L3fZkynAI7lF"
      },
      "source": [
        "## Imports e Gráficos "
      ]
    },
    {
      "cell_type": "code",
      "execution_count": 29,
      "metadata": {
        "id": "bwWL4i39HPw3"
      },
      "outputs": [],
      "source": [
        "import plotly.express as px\n",
        "from pyspark.ml.feature import VectorAssembler\n",
        "# from pyspark.ml.feature import StandardScaler\n",
        "# from pyspark.ml.feature import PCA\n",
        "from pyspark.ml.regression import GBTRegressor,LinearRegression"
      ]
    },
    {
      "cell_type": "code",
      "execution_count": 30,
      "metadata": {
        "id": "UTxLF81aJKdB",
        "colab": {
          "base_uri": "https://localhost:8080/",
          "height": 542
        },
        "outputId": "3e717ad0-594f-411f-92cb-e41e57adbaad"
      },
      "outputs": [
        {
          "output_type": "display_data",
          "data": {
            "text/html": [
              "<html>\n",
              "<head><meta charset=\"utf-8\" /></head>\n",
              "<body>\n",
              "    <div>            <script src=\"https://cdnjs.cloudflare.com/ajax/libs/mathjax/2.7.5/MathJax.js?config=TeX-AMS-MML_SVG\"></script><script type=\"text/javascript\">if (window.MathJax) {MathJax.Hub.Config({SVG: {font: \"STIX-Web\"}});}</script>                <script type=\"text/javascript\">window.PlotlyConfig = {MathJaxConfig: 'local'};</script>\n",
              "        <script src=\"https://cdn.plot.ly/plotly-2.8.3.min.js\"></script>                <div id=\"229a8d6a-cd26-4c0a-8cf4-4ef60d0d6556\" class=\"plotly-graph-div\" style=\"height:525px; width:100%;\"></div>            <script type=\"text/javascript\">                                    window.PLOTLYENV=window.PLOTLYENV || {};                                    if (document.getElementById(\"229a8d6a-cd26-4c0a-8cf4-4ef60d0d6556\")) {                    Plotly.newPlot(                        \"229a8d6a-cd26-4c0a-8cf4-4ef60d0d6556\",                        [{\"coloraxis\":\"coloraxis\",\"name\":\"0\",\"texttemplate\":\"%{z}\",\"x\":[\"andar\",\"area_util\",\"banheiros\",\"quartos\",\"suites\",\"vaga\",\"valor\",\"iptu\",\"condominio\",\"Zona Central\",\"Zona Norte\",\"Zona Oeste\",\"Zona Sul\",\"Academia\",\"Animais permitidos\",\"Churrasqueira\",\"Condom\\u00ednio fechado\",\"Elevador\",\"Piscina\",\"Playground\",\"Portaria 24h\",\"Port\\u00e3o eletr\\u00f4nico\",\"Sal\\u00e3o de festas\"],\"y\":[\"andar\",\"area_util\",\"banheiros\",\"quartos\",\"suites\",\"vaga\",\"valor\",\"iptu\",\"condominio\",\"Zona Central\",\"Zona Norte\",\"Zona Oeste\",\"Zona Sul\",\"Academia\",\"Animais permitidos\",\"Churrasqueira\",\"Condom\\u00ednio fechado\",\"Elevador\",\"Piscina\",\"Playground\",\"Portaria 24h\",\"Port\\u00e3o eletr\\u00f4nico\",\"Sal\\u00e3o de festas\"],\"z\":[[1.0,0.02093931892818361,0.017828850589746086,0.010490008946936838,0.024232889905669065,0.01840618884918171,0.016449771398279366,0.00039017347773134077,0.006632588910054903,0.03525515620055538,-0.00948412507504467,0.011497405835926363,-0.014494681636840413,0.06437805203850695,0.10181746678453747,0.0461746784833966,0.09197809913850774,0.07241888273747453,0.04396307753457046,0.05405794339869079,0.08978852490693072,0.08356000928161111,0.058958727444956824],[0.02093931892818361,1.0,0.6708085079586965,0.6737060136083624,0.6193442966173741,0.4717058229798758,0.7581807594223328,0.021365366677411676,0.04573838090588431,-0.10401359722063762,-0.17036658860113457,0.12159583007448481,0.039037985032295254,0.002919315533873911,-0.011884063578956643,-0.02217877568994997,-0.011337634643755937,0.018660237979502867,0.0194276062448268,-0.014582044283929882,-0.02325745804315723,-0.0009991944821471073,-0.025642148162892578],[0.017828850589746086,0.6708085079586965,1.0,0.6492105263848292,0.739362180248082,0.44486244727967705,0.5744873456325287,0.013952493766581739,0.027239870703682945,-0.12598883916959552,-0.16373874470221456,0.1906764913013859,-0.03506336426124867,0.0798190848253333,-0.02344047141240919,0.04423838950533436,-0.003940843846547825,0.05850927547284527,0.10007036752545341,0.06731445931922607,-0.03376991060145473,-0.015381913627375064,0.05681367261867518],[0.010490008946936838,0.6737060136083624,0.6492105263848292,1.0,0.5793574517643829,0.43027015304473565,0.5297778027941867,0.017277893153650147,0.021707208833703674,-0.16292055506011544,-0.1206017909226507,0.16419654566580585,-0.03180952348292551,0.06268592041935503,-0.019207049831848275,0.06372290414681668,0.001864530948005927,0.028534282682584334,0.0843950654798607,0.0793536235836012,-0.020587911284648833,-0.013893611277486477,0.06252624491297144],[0.024232889905669065,0.6193442966173741,0.739362180248082,0.5793574517643829,1.0,0.4577438753785978,0.5824666044536673,0.011797357988112774,0.029024410051808384,-0.10413688372920224,-0.21440493310103903,0.28814035674338995,-0.10466872736015134,0.24158403484161747,0.0649445745079853,0.18499087557726956,0.1382929430438289,0.11919345225145465,0.26270033951713184,0.1882741532885632,0.07950930484784575,0.08915112158180719,0.1728637964891147],[0.01840618884918171,0.4717058229798758,0.44486244727967705,0.43027015304473565,0.4577438753785978,1.0,0.40016122580653957,0.011980790812698297,0.025896507135196225,-0.09833089564707835,-0.1052991096400506,0.2577669743588577,-0.1639798771010001,0.13993224594288,0.03891683236352731,0.13196014843623935,0.07984110830412083,0.062077433491242846,0.1704316208628804,0.13360321882480083,0.03533776544234527,0.046746683817086625,0.13338602783529366],[0.016449771398279366,0.7581807594223328,0.5744873456325287,0.5297778027941867,0.5824666044536673,0.40016122580653957,1.0,0.028024132812240747,0.05025693531578526,-0.08544146935316216,-0.24633341962572847,-0.01915597390747458,0.2492364190045189,0.02648180555903644,-0.01578306188714706,-0.06110268218985586,-0.0051564524926554925,0.043263370213233884,0.024738187457471982,-0.0018251896604732293,0.012581866566831957,0.008453959362754063,-0.029494058872169784],[0.00039017347773134077,0.021365366677411676,0.013952493766581739,0.017277893153650147,0.011797357988112774,0.011980790812698297,0.028024132812240747,1.0,0.2022028886501611,-0.0036368848467546516,-0.008721390794512344,-0.005666608153407004,0.01439653537723251,0.00339422260105943,-0.0018386738439106131,-0.003003711394955506,-0.005172854488158944,0.0066090668678583375,0.0025626161519630352,0.0008452799190717239,-0.0011572106393808277,-0.004446241151764617,0.0011815525788102354],[0.006632588910054903,0.04573838090588431,0.027239870703682945,0.021707208833703674,0.029024410051808384,0.025896507135196225,0.05025693531578526,0.2022028886501611,1.0,-0.0044220226385209465,-0.010113758879859137,0.002337215971332413,0.007108555917095744,0.014390770272821958,0.012662241928111403,0.005834500182980157,0.01241986337636201,0.013544113688964838,0.010135412569605325,0.009670886331082363,0.012066686606114468,0.00625032325891671,0.009239805393053887],[0.03525515620055538,-0.10401359722063762,-0.12598883916959552,-0.16292055506011544,-0.10413688372920224,-0.09833089564707835,-0.08544146935316216,-0.0036368848467546516,-0.0044220226385209465,1.0,-0.061737401779013684,-0.13101242992164086,-0.08830654520708402,0.04333408431963132,0.055518561509511004,0.0017978838305748592,0.047859672433512794,0.03727442779886913,0.013414037140450395,-0.002896381357016654,0.04957648623093718,0.043418886382942425,0.008516715417805973],[-0.00948412507504467,-0.17036658860113457,-0.16373874470221456,-0.1206017909226507,-0.21440493310103903,-0.1052991096400506,-0.24633341962572847,-0.008721390794512344,-0.010113758879859137,-0.061737401779013684,1.0,-0.4626206565752059,-0.3118210382634899,-0.12115613086146518,-0.02680522399326934,-0.05192119048767935,-0.09045802378930572,-0.028785734137982806,-0.13407635720204786,-0.037227118704579155,-0.07330277467954018,-0.03297478732280694,-0.019068146801189366],[0.011497405835926363,0.12159583007448481,0.1906764913013859,0.16419654566580585,0.28814035674338995,0.2577669743588577,-0.01915597390747458,-0.005666608153407004,0.002337215971332413,-0.13101242992164086,-0.4626206565752059,1.0,-0.6617128474213847,0.3595578887253431,0.08286189606884926,0.41603621062139806,0.22036122688267154,0.053638349028761204,0.43002314506762773,0.2868363605860071,0.07889469638261874,0.07889466274200159,0.30563366326220953],[-0.014494681636840413,0.039037985032295254,-0.03506336426124867,-0.03180952348292551,-0.10466872736015134,-0.1639798771010001,0.2492364190045189,0.01439653537723251,0.007108555917095744,-0.08830654520708402,-0.3118210382634899,-0.6617128474213847,1.0,-0.3008738743710713,-0.08307565171010643,-0.4077926699103688,-0.17693894967935153,-0.04466227963638519,-0.35801365603394775,-0.2788021610031892,-0.03851581573898179,-0.0702555754280863,-0.31743465901491663],[0.06437805203850695,0.002919315533873911,0.0798190848253333,0.06268592041935503,0.24158403484161747,0.13993224594288,0.02648180555903644,0.00339422260105943,0.014390770272821958,0.04333408431963132,-0.12115613086146518,0.3595578887253431,-0.3008738743710713,1.0,0.4117359721964244,0.6777744162392146,0.5927090972524501,0.4574835080393556,0.7491740305127431,0.672390187080904,0.49515590251805125,0.4190752826555023,0.6948409305099482],[0.10181746678453747,-0.011884063578956643,-0.02344047141240919,-0.019207049831848275,0.0649445745079853,0.03891683236352731,-0.01578306188714706,-0.0018386738439106131,0.012662241928111403,0.055518561509511004,-0.02680522399326934,0.08286189606884926,-0.08307565171010643,0.4117359721964244,1.0,0.31267949863639866,0.6284062300517007,0.46786468421952054,0.3056053244698825,0.34562072737943444,0.6722946415303702,0.6884951997063973,0.39052404999350776],[0.0461746784833966,-0.02217877568994997,0.04423838950533436,0.06372290414681668,0.18499087557726956,0.13196014843623935,-0.06110268218985586,-0.003003711394955506,0.005834500182980157,0.0017978838305748592,-0.05192119048767935,0.41603621062139806,-0.4077926699103688,0.6777744162392146,0.31267949863639866,1.0,0.4772819875139628,0.3835198761097748,0.753364492907192,0.6290092066019289,0.37426401003209103,0.3181962114016998,0.6494174261379457],[0.09197809913850774,-0.011337634643755937,-0.003940843846547825,0.001864530948005927,0.1382929430438289,0.07984110830412083,-0.0051564524926554925,-0.005172854488158944,0.01241986337636201,0.047859672433512794,-0.09045802378930572,0.22036122688267154,-0.17693894967935153,0.5927090972524501,0.6284062300517007,0.4772819875139628,1.0,0.5261507740963588,0.4951931733485181,0.4823847358917823,0.6972643653876027,0.683813261301877,0.5158441241250293],[0.07241888273747453,0.018660237979502867,0.05850927547284527,0.028534282682584334,0.11919345225145465,0.062077433491242846,0.043263370213233884,0.0066090668678583375,0.013544113688964838,0.03727442779886913,-0.028785734137982806,0.053638349028761204,-0.04466227963638519,0.4574835080393556,0.46786468421952054,0.3835198761097748,0.5261507740963588,1.0,0.41402142827256555,0.4209128288833153,0.5206733294273198,0.4838161057487779,0.4333557776328804],[0.04396307753457046,0.0194276062448268,0.10007036752545341,0.0843950654798607,0.26270033951713184,0.1704316208628804,0.024738187457471982,0.0025626161519630352,0.010135412569605325,0.013414037140450395,-0.13407635720204786,0.43002314506762773,-0.35801365603394775,0.7491740305127431,0.3056053244698825,0.753364492907192,0.4951931733485181,0.41402142827256555,1.0,0.646276073012292,0.3892236656970127,0.3202234500814165,0.6553584296400986],[0.05405794339869079,-0.014582044283929882,0.06731445931922607,0.0793536235836012,0.1882741532885632,0.13360321882480083,-0.0018251896604732293,0.0008452799190717239,0.009670886331082363,-0.002896381357016654,-0.037227118704579155,0.2868363605860071,-0.2788021610031892,0.672390187080904,0.34562072737943444,0.6290092066019289,0.4823847358917823,0.4209128288833153,0.646276073012292,1.0,0.42825613540478347,0.3569341482297373,0.7390307666437779],[0.08978852490693072,-0.02325745804315723,-0.03376991060145473,-0.020587911284648833,0.07950930484784575,0.03533776544234527,0.012581866566831957,-0.0011572106393808277,0.012066686606114468,0.04957648623093718,-0.07330277467954018,0.07889469638261874,-0.03851581573898179,0.49515590251805125,0.6722946415303702,0.37426401003209103,0.6972643653876027,0.5206733294273198,0.3892236656970127,0.42825613540478347,1.0,0.7835103793329942,0.46010327087241265],[0.08356000928161111,-0.0009991944821471073,-0.015381913627375064,-0.013893611277486477,0.08915112158180719,0.046746683817086625,0.008453959362754063,-0.004446241151764617,0.00625032325891671,0.043418886382942425,-0.03297478732280694,0.07889466274200159,-0.0702555754280863,0.4190752826555023,0.6884951997063973,0.3181962114016998,0.683813261301877,0.4838161057487779,0.3202234500814165,0.3569341482297373,0.7835103793329942,1.0,0.3868334485321574],[0.058958727444956824,-0.025642148162892578,0.05681367261867518,0.06252624491297144,0.1728637964891147,0.13338602783529366,-0.029494058872169784,0.0011815525788102354,0.009239805393053887,0.008516715417805973,-0.019068146801189366,0.30563366326220953,-0.31743465901491663,0.6948409305099482,0.39052404999350776,0.6494174261379457,0.5158441241250293,0.4333557776328804,0.6553584296400986,0.7390307666437779,0.46010327087241265,0.3868334485321574,1.0]],\"type\":\"heatmap\",\"xaxis\":\"x\",\"yaxis\":\"y\",\"hovertemplate\":\"x: %{x}<br>y: %{y}<br>color: %{z}<extra></extra>\"}],                        {\"template\":{\"data\":{\"bar\":[{\"error_x\":{\"color\":\"#2a3f5f\"},\"error_y\":{\"color\":\"#2a3f5f\"},\"marker\":{\"line\":{\"color\":\"#E5ECF6\",\"width\":0.5},\"pattern\":{\"fillmode\":\"overlay\",\"size\":10,\"solidity\":0.2}},\"type\":\"bar\"}],\"barpolar\":[{\"marker\":{\"line\":{\"color\":\"#E5ECF6\",\"width\":0.5},\"pattern\":{\"fillmode\":\"overlay\",\"size\":10,\"solidity\":0.2}},\"type\":\"barpolar\"}],\"carpet\":[{\"aaxis\":{\"endlinecolor\":\"#2a3f5f\",\"gridcolor\":\"white\",\"linecolor\":\"white\",\"minorgridcolor\":\"white\",\"startlinecolor\":\"#2a3f5f\"},\"baxis\":{\"endlinecolor\":\"#2a3f5f\",\"gridcolor\":\"white\",\"linecolor\":\"white\",\"minorgridcolor\":\"white\",\"startlinecolor\":\"#2a3f5f\"},\"type\":\"carpet\"}],\"choropleth\":[{\"colorbar\":{\"outlinewidth\":0,\"ticks\":\"\"},\"type\":\"choropleth\"}],\"contour\":[{\"colorbar\":{\"outlinewidth\":0,\"ticks\":\"\"},\"colorscale\":[[0.0,\"#0d0887\"],[0.1111111111111111,\"#46039f\"],[0.2222222222222222,\"#7201a8\"],[0.3333333333333333,\"#9c179e\"],[0.4444444444444444,\"#bd3786\"],[0.5555555555555556,\"#d8576b\"],[0.6666666666666666,\"#ed7953\"],[0.7777777777777778,\"#fb9f3a\"],[0.8888888888888888,\"#fdca26\"],[1.0,\"#f0f921\"]],\"type\":\"contour\"}],\"contourcarpet\":[{\"colorbar\":{\"outlinewidth\":0,\"ticks\":\"\"},\"type\":\"contourcarpet\"}],\"heatmap\":[{\"colorbar\":{\"outlinewidth\":0,\"ticks\":\"\"},\"colorscale\":[[0.0,\"#0d0887\"],[0.1111111111111111,\"#46039f\"],[0.2222222222222222,\"#7201a8\"],[0.3333333333333333,\"#9c179e\"],[0.4444444444444444,\"#bd3786\"],[0.5555555555555556,\"#d8576b\"],[0.6666666666666666,\"#ed7953\"],[0.7777777777777778,\"#fb9f3a\"],[0.8888888888888888,\"#fdca26\"],[1.0,\"#f0f921\"]],\"type\":\"heatmap\"}],\"heatmapgl\":[{\"colorbar\":{\"outlinewidth\":0,\"ticks\":\"\"},\"colorscale\":[[0.0,\"#0d0887\"],[0.1111111111111111,\"#46039f\"],[0.2222222222222222,\"#7201a8\"],[0.3333333333333333,\"#9c179e\"],[0.4444444444444444,\"#bd3786\"],[0.5555555555555556,\"#d8576b\"],[0.6666666666666666,\"#ed7953\"],[0.7777777777777778,\"#fb9f3a\"],[0.8888888888888888,\"#fdca26\"],[1.0,\"#f0f921\"]],\"type\":\"heatmapgl\"}],\"histogram\":[{\"marker\":{\"pattern\":{\"fillmode\":\"overlay\",\"size\":10,\"solidity\":0.2}},\"type\":\"histogram\"}],\"histogram2d\":[{\"colorbar\":{\"outlinewidth\":0,\"ticks\":\"\"},\"colorscale\":[[0.0,\"#0d0887\"],[0.1111111111111111,\"#46039f\"],[0.2222222222222222,\"#7201a8\"],[0.3333333333333333,\"#9c179e\"],[0.4444444444444444,\"#bd3786\"],[0.5555555555555556,\"#d8576b\"],[0.6666666666666666,\"#ed7953\"],[0.7777777777777778,\"#fb9f3a\"],[0.8888888888888888,\"#fdca26\"],[1.0,\"#f0f921\"]],\"type\":\"histogram2d\"}],\"histogram2dcontour\":[{\"colorbar\":{\"outlinewidth\":0,\"ticks\":\"\"},\"colorscale\":[[0.0,\"#0d0887\"],[0.1111111111111111,\"#46039f\"],[0.2222222222222222,\"#7201a8\"],[0.3333333333333333,\"#9c179e\"],[0.4444444444444444,\"#bd3786\"],[0.5555555555555556,\"#d8576b\"],[0.6666666666666666,\"#ed7953\"],[0.7777777777777778,\"#fb9f3a\"],[0.8888888888888888,\"#fdca26\"],[1.0,\"#f0f921\"]],\"type\":\"histogram2dcontour\"}],\"mesh3d\":[{\"colorbar\":{\"outlinewidth\":0,\"ticks\":\"\"},\"type\":\"mesh3d\"}],\"parcoords\":[{\"line\":{\"colorbar\":{\"outlinewidth\":0,\"ticks\":\"\"}},\"type\":\"parcoords\"}],\"pie\":[{\"automargin\":true,\"type\":\"pie\"}],\"scatter\":[{\"marker\":{\"colorbar\":{\"outlinewidth\":0,\"ticks\":\"\"}},\"type\":\"scatter\"}],\"scatter3d\":[{\"line\":{\"colorbar\":{\"outlinewidth\":0,\"ticks\":\"\"}},\"marker\":{\"colorbar\":{\"outlinewidth\":0,\"ticks\":\"\"}},\"type\":\"scatter3d\"}],\"scattercarpet\":[{\"marker\":{\"colorbar\":{\"outlinewidth\":0,\"ticks\":\"\"}},\"type\":\"scattercarpet\"}],\"scattergeo\":[{\"marker\":{\"colorbar\":{\"outlinewidth\":0,\"ticks\":\"\"}},\"type\":\"scattergeo\"}],\"scattergl\":[{\"marker\":{\"colorbar\":{\"outlinewidth\":0,\"ticks\":\"\"}},\"type\":\"scattergl\"}],\"scattermapbox\":[{\"marker\":{\"colorbar\":{\"outlinewidth\":0,\"ticks\":\"\"}},\"type\":\"scattermapbox\"}],\"scatterpolar\":[{\"marker\":{\"colorbar\":{\"outlinewidth\":0,\"ticks\":\"\"}},\"type\":\"scatterpolar\"}],\"scatterpolargl\":[{\"marker\":{\"colorbar\":{\"outlinewidth\":0,\"ticks\":\"\"}},\"type\":\"scatterpolargl\"}],\"scatterternary\":[{\"marker\":{\"colorbar\":{\"outlinewidth\":0,\"ticks\":\"\"}},\"type\":\"scatterternary\"}],\"surface\":[{\"colorbar\":{\"outlinewidth\":0,\"ticks\":\"\"},\"colorscale\":[[0.0,\"#0d0887\"],[0.1111111111111111,\"#46039f\"],[0.2222222222222222,\"#7201a8\"],[0.3333333333333333,\"#9c179e\"],[0.4444444444444444,\"#bd3786\"],[0.5555555555555556,\"#d8576b\"],[0.6666666666666666,\"#ed7953\"],[0.7777777777777778,\"#fb9f3a\"],[0.8888888888888888,\"#fdca26\"],[1.0,\"#f0f921\"]],\"type\":\"surface\"}],\"table\":[{\"cells\":{\"fill\":{\"color\":\"#EBF0F8\"},\"line\":{\"color\":\"white\"}},\"header\":{\"fill\":{\"color\":\"#C8D4E3\"},\"line\":{\"color\":\"white\"}},\"type\":\"table\"}]},\"layout\":{\"annotationdefaults\":{\"arrowcolor\":\"#2a3f5f\",\"arrowhead\":0,\"arrowwidth\":1},\"autotypenumbers\":\"strict\",\"coloraxis\":{\"colorbar\":{\"outlinewidth\":0,\"ticks\":\"\"}},\"colorscale\":{\"diverging\":[[0,\"#8e0152\"],[0.1,\"#c51b7d\"],[0.2,\"#de77ae\"],[0.3,\"#f1b6da\"],[0.4,\"#fde0ef\"],[0.5,\"#f7f7f7\"],[0.6,\"#e6f5d0\"],[0.7,\"#b8e186\"],[0.8,\"#7fbc41\"],[0.9,\"#4d9221\"],[1,\"#276419\"]],\"sequential\":[[0.0,\"#0d0887\"],[0.1111111111111111,\"#46039f\"],[0.2222222222222222,\"#7201a8\"],[0.3333333333333333,\"#9c179e\"],[0.4444444444444444,\"#bd3786\"],[0.5555555555555556,\"#d8576b\"],[0.6666666666666666,\"#ed7953\"],[0.7777777777777778,\"#fb9f3a\"],[0.8888888888888888,\"#fdca26\"],[1.0,\"#f0f921\"]],\"sequentialminus\":[[0.0,\"#0d0887\"],[0.1111111111111111,\"#46039f\"],[0.2222222222222222,\"#7201a8\"],[0.3333333333333333,\"#9c179e\"],[0.4444444444444444,\"#bd3786\"],[0.5555555555555556,\"#d8576b\"],[0.6666666666666666,\"#ed7953\"],[0.7777777777777778,\"#fb9f3a\"],[0.8888888888888888,\"#fdca26\"],[1.0,\"#f0f921\"]]},\"colorway\":[\"#636efa\",\"#EF553B\",\"#00cc96\",\"#ab63fa\",\"#FFA15A\",\"#19d3f3\",\"#FF6692\",\"#B6E880\",\"#FF97FF\",\"#FECB52\"],\"font\":{\"color\":\"#2a3f5f\"},\"geo\":{\"bgcolor\":\"white\",\"lakecolor\":\"white\",\"landcolor\":\"#E5ECF6\",\"showlakes\":true,\"showland\":true,\"subunitcolor\":\"white\"},\"hoverlabel\":{\"align\":\"left\"},\"hovermode\":\"closest\",\"mapbox\":{\"style\":\"light\"},\"paper_bgcolor\":\"white\",\"plot_bgcolor\":\"#E5ECF6\",\"polar\":{\"angularaxis\":{\"gridcolor\":\"white\",\"linecolor\":\"white\",\"ticks\":\"\"},\"bgcolor\":\"#E5ECF6\",\"radialaxis\":{\"gridcolor\":\"white\",\"linecolor\":\"white\",\"ticks\":\"\"}},\"scene\":{\"xaxis\":{\"backgroundcolor\":\"#E5ECF6\",\"gridcolor\":\"white\",\"gridwidth\":2,\"linecolor\":\"white\",\"showbackground\":true,\"ticks\":\"\",\"zerolinecolor\":\"white\"},\"yaxis\":{\"backgroundcolor\":\"#E5ECF6\",\"gridcolor\":\"white\",\"gridwidth\":2,\"linecolor\":\"white\",\"showbackground\":true,\"ticks\":\"\",\"zerolinecolor\":\"white\"},\"zaxis\":{\"backgroundcolor\":\"#E5ECF6\",\"gridcolor\":\"white\",\"gridwidth\":2,\"linecolor\":\"white\",\"showbackground\":true,\"ticks\":\"\",\"zerolinecolor\":\"white\"}},\"shapedefaults\":{\"line\":{\"color\":\"#2a3f5f\"}},\"ternary\":{\"aaxis\":{\"gridcolor\":\"white\",\"linecolor\":\"white\",\"ticks\":\"\"},\"baxis\":{\"gridcolor\":\"white\",\"linecolor\":\"white\",\"ticks\":\"\"},\"bgcolor\":\"#E5ECF6\",\"caxis\":{\"gridcolor\":\"white\",\"linecolor\":\"white\",\"ticks\":\"\"}},\"title\":{\"x\":0.05},\"xaxis\":{\"automargin\":true,\"gridcolor\":\"white\",\"linecolor\":\"white\",\"ticks\":\"\",\"title\":{\"standoff\":15},\"zerolinecolor\":\"white\",\"zerolinewidth\":2},\"yaxis\":{\"automargin\":true,\"gridcolor\":\"white\",\"linecolor\":\"white\",\"ticks\":\"\",\"title\":{\"standoff\":15},\"zerolinecolor\":\"white\",\"zerolinewidth\":2}}},\"xaxis\":{\"anchor\":\"y\",\"domain\":[0.0,1.0],\"scaleanchor\":\"y\",\"constrain\":\"domain\"},\"yaxis\":{\"anchor\":\"x\",\"domain\":[0.0,1.0],\"autorange\":\"reversed\",\"constrain\":\"domain\"},\"coloraxis\":{\"colorscale\":[[0.0,\"#0d0887\"],[0.1111111111111111,\"#46039f\"],[0.2222222222222222,\"#7201a8\"],[0.3333333333333333,\"#9c179e\"],[0.4444444444444444,\"#bd3786\"],[0.5555555555555556,\"#d8576b\"],[0.6666666666666666,\"#ed7953\"],[0.7777777777777778,\"#fb9f3a\"],[0.8888888888888888,\"#fdca26\"],[1.0,\"#f0f921\"]]},\"margin\":{\"t\":60}},                        {\"responsive\": true}                    ).then(function(){\n",
              "                            \n",
              "var gd = document.getElementById('229a8d6a-cd26-4c0a-8cf4-4ef60d0d6556');\n",
              "var x = new MutationObserver(function (mutations, observer) {{\n",
              "        var display = window.getComputedStyle(gd).display;\n",
              "        if (!display || display === 'none') {{\n",
              "            console.log([gd, 'removed!']);\n",
              "            Plotly.purge(gd);\n",
              "            observer.disconnect();\n",
              "        }}\n",
              "}});\n",
              "\n",
              "// Listen for the removal of the full notebook cells\n",
              "var notebookContainer = gd.closest('#notebook-container');\n",
              "if (notebookContainer) {{\n",
              "    x.observe(notebookContainer, {childList: true});\n",
              "}}\n",
              "\n",
              "// Listen for the clearing of the current output cell\n",
              "var outputEl = gd.closest('.output');\n",
              "if (outputEl) {{\n",
              "    x.observe(outputEl, {childList: true});\n",
              "}}\n",
              "\n",
              "                        })                };                            </script>        </div>\n",
              "</body>\n",
              "</html>"
            ]
          },
          "metadata": {}
        }
      ],
      "source": [
        "fig = px.imshow(anuncio.toPandas().corr(), text_auto=True)\n",
        "fig.show()\n",
        "# Muitas colunas no futuro irei remover-las para ter uma anasile melhor desse grafico"
      ]
    },
    {
      "cell_type": "code",
      "execution_count": 31,
      "metadata": {
        "id": "F78XuhAsPVbL",
        "colab": {
          "base_uri": "https://localhost:8080/"
        },
        "outputId": "16503908-c27c-46c9-c94d-0673230a6220"
      },
      "outputs": [
        {
          "output_type": "execute_result",
          "data": {
            "text/plain": [
              "['andar',\n",
              " 'area_util',\n",
              " 'banheiros',\n",
              " 'quartos',\n",
              " 'suites',\n",
              " 'vaga',\n",
              " 'iptu',\n",
              " 'condominio',\n",
              " 'Zona Central',\n",
              " 'Zona Norte',\n",
              " 'Zona Oeste',\n",
              " 'Zona Sul',\n",
              " 'Academia',\n",
              " 'Animais permitidos',\n",
              " 'Churrasqueira',\n",
              " 'Condomínio fechado',\n",
              " 'Elevador',\n",
              " 'Piscina',\n",
              " 'Playground',\n",
              " 'Portaria 24h',\n",
              " 'Portão eletrônico',\n",
              " 'Salão de festas']"
            ]
          },
          "metadata": {},
          "execution_count": 31
        }
      ],
      "source": [
        "X = anuncio.columns\n",
        "X.remove('valor')\n",
        "X"
      ]
    },
    {
      "cell_type": "code",
      "execution_count": 32,
      "metadata": {
        "id": "TCCiQOvPSZU8"
      },
      "outputs": [],
      "source": [
        "anuncio=anuncio.withColumnRenamed(\"valor\",\"label\")"
      ]
    },
    {
      "cell_type": "code",
      "execution_count": 33,
      "metadata": {
        "id": "LLY_xuu8RM62"
      },
      "outputs": [],
      "source": [
        "anuncio_vector=VectorAssembler(inputCols=X, outputCol='features').transform(anuncio).select(['features', 'label'])"
      ]
    },
    {
      "cell_type": "code",
      "execution_count": 34,
      "metadata": {
        "id": "oo1iITH1RUca",
        "colab": {
          "base_uri": "https://localhost:8080/"
        },
        "outputId": "394d3520-30b7-4c69-ae31-e1cea3737fc5"
      },
      "outputs": [
        {
          "output_type": "stream",
          "name": "stdout",
          "text": [
            "+-----------------------------------------------------------------------------------------------+---------+\n",
            "|features                                                                                       |label    |\n",
            "+-----------------------------------------------------------------------------------------------+---------+\n",
            "|[0.0,116.0,2.0,3.0,1.0,1.0,100.0,100.0,0.0,0.0,1.0,0.0,1.0,1.0,1.0,1.0,1.0,1.0,1.0,1.0,1.0,1.0]|3793260.0|\n",
            "|(22,[1,2,3,4,5,6,7,10,14,17],[143.0,4.0,4.0,3.0,1.0,2000.0,3948.0,1.0,1.0,1.0])                |1600000.0|\n",
            "|[7.0,236.0,4.0,5.0,2.0,3.0,20.0,20.0,0.0,0.0,1.0,0.0,1.0,1.0,1.0,1.0,1.0,1.0,1.0,1.0,1.0,1.0]  |1535000.0|\n",
            "|(22,[1,2,3,4,5,6,7,11,14,16],[215.0,3.0,3.0,1.0,2.0,4500.0,1685.0,1.0,1.0,1.0])                |2279540.0|\n",
            "|[3.0,64.0,1.0,2.0,2.0,1.0,80.0,784.0,0.0,0.0,1.0,0.0,1.0,1.0,1.0,1.0,1.0,1.0,1.0,1.0,1.0,1.0]  |380000.0 |\n",
            "+-----------------------------------------------------------------------------------------------+---------+\n",
            "only showing top 5 rows\n",
            "\n"
          ]
        }
      ],
      "source": [
        "anuncio_vector.show(truncate=False, n=5)"
      ]
    },
    {
      "cell_type": "code",
      "execution_count": 35,
      "metadata": {
        "id": "IP66ql9GR76u"
      },
      "outputs": [],
      "source": [
        "treino, teste = anuncio_vector.randomSplit([0.7, 0.3], seed=101)"
      ]
    },
    {
      "cell_type": "code",
      "execution_count": 36,
      "metadata": {
        "id": "tmfClrfHRXH3"
      },
      "outputs": [],
      "source": [
        "gbt = GBTRegressor(maxDepth=10,maxBins=32,lossType='squared', seed=101)\n",
        "lr= LinearRegression(regParam=0.0, solver=\"normal\")"
      ]
    },
    {
      "cell_type": "code",
      "execution_count": 37,
      "metadata": {
        "id": "JYHQrazWWQFy"
      },
      "outputs": [],
      "source": [
        "gbt=gbt.fit(treino)\n",
        "lr= lr.fit(treino)"
      ]
    },
    {
      "cell_type": "code",
      "execution_count": 38,
      "metadata": {
        "id": "iHZYCEEZQJoV"
      },
      "outputs": [],
      "source": [
        "previsoes_gbt_treino = gbt.transform(treino)\n",
        "previsoes_gbt_teste = gbt.transform(teste)\n",
        "\n",
        "previsoes_lr_treino = lr.transform(treino)\n",
        "previsoes_lr_teste = lr.transform(teste)\n"
      ]
    },
    {
      "cell_type": "markdown",
      "metadata": {
        "id": "ug2LyAiDTtJB"
      },
      "source": [
        "## Avaliando o Modelo"
      ]
    },
    {
      "cell_type": "code",
      "execution_count": 39,
      "metadata": {
        "id": "SrRzBVXwc9tV"
      },
      "outputs": [],
      "source": [
        "from pyspark.ml.evaluation import RegressionEvaluator"
      ]
    },
    {
      "cell_type": "code",
      "execution_count": 40,
      "metadata": {
        "id": "wNU9-o72UP2H"
      },
      "outputs": [],
      "source": [
        "evaluator = RegressionEvaluator()"
      ]
    },
    {
      "cell_type": "code",
      "execution_count": 41,
      "metadata": {
        "id": "iRLwCptWcRSK"
      },
      "outputs": [],
      "source": [
        "def sumario_regressao(nome,treino,teste):\n",
        "  print(nome)\n",
        "  print(\"=\"*40)\n",
        "  print(\"Dados de Treino\")\n",
        "  print(\"=\"*40)\n",
        "  print(\"Métricas\")\n",
        "  print(\"-\"*40)\n",
        "  print(f\"R²: {evaluator.evaluate(treino, {evaluator.metricName : 'r2'})}\")\n",
        "  print(f\"RMSE: {evaluator.evaluate(treino, {evaluator.metricName : 'rmse'})}\")\n",
        "  print(\"\")\n",
        "  print(\"=\"*40)\n",
        "  print(\"Dados de Teste\")\n",
        "  print(\"=\"*40)\n",
        "  print(\"Métricas\")\n",
        "  print(\"-\"*40)\n",
        "  print(f\"R²: {evaluator.evaluate(teste, {evaluator.metricName : 'r2'})}\")\n",
        "  print(f\"RMSE: {evaluator.evaluate(teste, {evaluator.metricName : 'rmse'})}\")"
      ]
    },
    {
      "cell_type": "code",
      "execution_count": 42,
      "metadata": {
        "id": "OrMMm8wXe36G",
        "colab": {
          "base_uri": "https://localhost:8080/"
        },
        "outputId": "04eebcb8-35db-4e43-83fa-3f0a8e1108bc"
      },
      "outputs": [
        {
          "output_type": "stream",
          "name": "stdout",
          "text": [
            "Gradient-boosted tree regression\n",
            "========================================\n",
            "Dados de Treino\n",
            "========================================\n",
            "Métricas\n",
            "----------------------------------------\n",
            "R²: 0.8176473433252782\n",
            "RMSE: 623194.9909585245\n",
            "\n",
            "========================================\n",
            "Dados de Teste\n",
            "========================================\n",
            "Métricas\n",
            "----------------------------------------\n",
            "R²: 0.7884268396572107\n",
            "RMSE: 685077.3053739488\n"
          ]
        }
      ],
      "source": [
        "sumario_regressao('Gradient-boosted tree regression',previsoes_gbt_treino, previsoes_gbt_teste)"
      ]
    },
    {
      "cell_type": "code",
      "execution_count": 43,
      "metadata": {
        "id": "qu_UemgYq_H3",
        "colab": {
          "base_uri": "https://localhost:8080/"
        },
        "outputId": "04b61bb6-3f9d-4856-f8dc-787e004c396b"
      },
      "outputs": [
        {
          "output_type": "stream",
          "name": "stdout",
          "text": [
            "Linear regression\n",
            "========================================\n",
            "Dados de Treino\n",
            "========================================\n",
            "Métricas\n",
            "----------------------------------------\n",
            "R²: 0.6637170222224695\n",
            "RMSE: 846292.22063621\n",
            "\n",
            "========================================\n",
            "Dados de Teste\n",
            "========================================\n",
            "Métricas\n",
            "----------------------------------------\n",
            "R²: 0.6662043067221687\n",
            "RMSE: 860497.5906847531\n"
          ]
        }
      ],
      "source": [
        "sumario_regressao('Linear regression',previsoes_lr_treino,previsoes_lr_teste )"
      ]
    },
    {
      "cell_type": "markdown",
      "source": [
        "# Modelo escolhido vai ser o Gradient-boosted tree regression"
      ],
      "metadata": {
        "id": "9yg-THDDVO5L"
      }
    },
    {
      "cell_type": "markdown",
      "source": [
        "## Final Semana 2\n",
        "---\n",
        "### OBS.: Por causa da volta as aulas da faculdade vou organizar os notebooks só no final da semana 4"
      ],
      "metadata": {
        "id": "yQnGcyWA1f1y"
      }
    },
    {
      "cell_type": "code",
      "source": [
        "anuncio.write.parquet(\n",
        "    path='/content/drive/MyDrive/Challenge/anuncio_2',\n",
        "    mode='overwrite'\n",
        ")"
      ],
      "metadata": {
        "id": "17yrNdMJ1ZmF"
      },
      "execution_count": 48,
      "outputs": []
    }
  ],
  "metadata": {
    "accelerator": "TPU",
    "colab": {
      "provenance": [],
      "authorship_tag": "ABX9TyMbpy4HKMTqQEFJWIp3sPLU",
      "include_colab_link": true
    },
    "gpuClass": "standard",
    "kernelspec": {
      "display_name": "Python 3",
      "name": "python3"
    },
    "language_info": {
      "name": "python"
    }
  },
  "nbformat": 4,
  "nbformat_minor": 0
}